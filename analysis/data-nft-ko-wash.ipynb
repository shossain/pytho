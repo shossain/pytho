{
 "cells": [
  {
   "cell_type": "code",
   "execution_count": 1,
   "id": "e9a623c1-c1b1-43aa-8537-37e7fde0f44a",
   "metadata": {
    "execution": {
     "iopub.execute_input": "2022-05-19T19:39:02.849398Z",
     "iopub.status.busy": "2022-05-19T19:39:02.849109Z",
     "iopub.status.idle": "2022-05-19T19:39:47.081926Z",
     "shell.execute_reply": "2022-05-19T19:39:47.080956Z",
     "shell.execute_reply.started": "2022-05-19T19:39:02.849364Z"
    },
    "tags": []
   },
   "outputs": [
    {
     "data": {
      "application/vnd.jupyter.widget-view+json": {
       "model_id": "",
       "version_major": 2,
       "version_minor": 0
      },
      "text/plain": [
       "VBox()"
      ]
     },
     "metadata": {},
     "output_type": "display_data"
    },
    {
     "name": "stdout",
     "output_type": "stream",
     "text": [
      "Starting Spark application\n"
     ]
    },
    {
     "data": {
      "text/html": [
       "<table>\n",
       "<tr><th>ID</th><th>YARN Application ID</th><th>Kind</th><th>State</th><th>Spark UI</th><th>Driver log</th><th>User</th><th>Current session?</th></tr><tr><td>7</td><td>application_1663108617445_0008</td><td>spark</td><td>idle</td><td><a target=\"_blank\" href=\"http://ip-172-31-58-179.ec2.internal:20888/proxy/application_1663108617445_0008/\" class=\"emr-proxy-link\" emr-resource=\"j-1A16JE09LWGE\n",
       "\" application-id=\"application_1663108617445_0008\">Link</a></td><td><a target=\"_blank\" href=\"http://ip-172-31-58-179.ec2.internal:8042/node/containerlogs/container_1663108617445_0008_01_000001/livy\" >Link</a></td><td>None</td><td>✔</td></tr></table>"
      ],
      "text/plain": [
       "<IPython.core.display.HTML object>"
      ]
     },
     "metadata": {},
     "output_type": "display_data"
    },
    {
     "data": {
      "application/vnd.jupyter.widget-view+json": {
       "model_id": "",
       "version_major": 2,
       "version_minor": 0
      },
      "text/plain": [
       "FloatProgress(value=0.0, bar_style='info', description='Progress:', layout=Layout(height='25px', width='50%'),…"
      ]
     },
     "metadata": {},
     "output_type": "display_data"
    },
    {
     "name": "stdout",
     "output_type": "stream",
     "text": [
      "SparkSession available as 'spark'.\n"
     ]
    },
    {
     "data": {
      "application/vnd.jupyter.widget-view+json": {
       "model_id": "",
       "version_major": 2,
       "version_minor": 0
      },
      "text/plain": [
       "FloatProgress(value=0.0, bar_style='info', description='Progress:', layout=Layout(height='25px', width='50%'),…"
      ]
     },
     "metadata": {},
     "output_type": "display_data"
    },
    {
     "name": "stdout",
     "output_type": "stream",
     "text": [
      "transactionsDf: org.apache.spark.sql.Dataset[org.apache.spark.sql.Row] = [block_hash: string, block_number: bigint ... 15 more fields]\n"
     ]
    }
   ],
   "source": [
    "val transactionsDf = spark.read.json(\"s3://unwind.dev.data/nft/ko/*/all/\").cache\n",
    "//val transactionsDf = spark.read.json(\"s3://unwind.dev.data/nft/ko/0xABB3738f04Dc2Ec20f4AE4462c3d069d02AE045B/all/\").cache"
   ]
  },
  {
   "cell_type": "code",
   "execution_count": null,
   "id": "db13906e",
   "metadata": {
    "scrolled": true
   },
   "outputs": [],
   "source": [
    "//transactionsDf.filter($\"owner_address\".isNotNull).show(false)"
   ]
  },
  {
   "cell_type": "code",
   "execution_count": null,
   "id": "0a5c54d2",
   "metadata": {},
   "outputs": [],
   "source": [
    "// transactionsDf.\n",
    "//   filter($\"type\" === \"mint\").\n",
    "//   groupBy(\"transaction_hash\", \"contract_address\").\n",
    "//   agg(countDistinct(\"owner_address\").as(\"cnt\")).\n",
    "//   filter($\"contract_address\" === \"0xabb3738f04dc2ec20f4ae4462c3d069d02ae045b\").\n",
    "//   show(false)"
   ]
  },
  {
   "cell_type": "code",
   "execution_count": null,
   "id": "3f72a28a",
   "metadata": {},
   "outputs": [],
   "source": [
    "// transactionsDf.\n",
    "//   select(countDistinct(\"transfer_to\"), countDistinct(\"transfer_from\"), countDistinct(\"owner_Address\")).\n",
    "//   show"
   ]
  },
  {
   "cell_type": "code",
   "execution_count": null,
   "id": "7ee213f9",
   "metadata": {},
   "outputs": [],
   "source": [
    "// transactionsDf.\n",
    "//   groupBy(\"type\").\n",
    "//   agg(count(\"*\").as(\"cnt\")).\n",
    "//   show"
   ]
  },
  {
   "cell_type": "code",
   "execution_count": null,
   "id": "27d6e4a0",
   "metadata": {},
   "outputs": [],
   "source": [
    "// transactionsDf.\n",
    "//   filter($\"type\" === \"sale\").\n",
    "//   select(\"buyer_address\", \"transfer_to\", \"marketplace\").\n",
    "//   show(false)"
   ]
  },
  {
   "cell_type": "code",
   "execution_count": 2,
   "id": "bd374203",
   "metadata": {},
   "outputs": [
    {
     "data": {
      "application/vnd.jupyter.widget-view+json": {
       "model_id": "c616741f413d4d7a95d464e0ddb010ed",
       "version_major": 2,
       "version_minor": 0
      },
      "text/plain": [
       "VBox()"
      ]
     },
     "metadata": {},
     "output_type": "display_data"
    },
    {
     "data": {
      "application/vnd.jupyter.widget-view+json": {
       "model_id": "",
       "version_major": 2,
       "version_minor": 0
      },
      "text/plain": [
       "FloatProgress(value=0.0, bar_style='info', description='Progress:', layout=Layout(height='25px', width='50%'),…"
      ]
     },
     "metadata": {},
     "output_type": "display_data"
    },
    {
     "name": "stdout",
     "output_type": "stream",
     "text": [
      "editionDf: org.apache.spark.sql.Dataset[org.apache.spark.sql.Row] = [transaction_hash: string, edition_total: bigint ... 1 more field]\n"
     ]
    }
   ],
   "source": [
    "val editionDf = transactionsDf.\n",
    "  filter($\"type\" === \"mint\").\n",
    "  groupBy(\"transaction_hash\").\n",
    "  agg(count(\"*\").as(\"edition_total\"), min(\"token_id\").as(\"edition_id\")).\n",
    "  cache"
   ]
  },
  {
   "cell_type": "code",
   "execution_count": null,
   "id": "99fbceea",
   "metadata": {},
   "outputs": [],
   "source": [
    "//transactionsDf.filter($\"token_id\" === \"10642000\").orderBy($\"transaction_date\").select(\"type\", \"transaction_date\", \"transaction_hash\").show(false)"
   ]
  },
  {
   "cell_type": "code",
   "execution_count": null,
   "id": "010c564d",
   "metadata": {},
   "outputs": [],
   "source": [
    "// transactionsDf.\n",
    "//   filter($\"type\" === \"mint\").\n",
    "//   select(\"token_id\", \"transaction_hash\").\n",
    "//   show(false)"
   ]
  },
  {
   "cell_type": "code",
   "execution_count": null,
   "id": "82ce3a3a",
   "metadata": {},
   "outputs": [],
   "source": [
    "//transactionsDf.select(\"token_id\").distinct.count"
   ]
  },
  {
   "cell_type": "code",
   "execution_count": 3,
   "id": "c5e2799c",
   "metadata": {},
   "outputs": [
    {
     "data": {
      "application/vnd.jupyter.widget-view+json": {
       "model_id": "8b24b13165784d4c93da167311cf7006",
       "version_major": 2,
       "version_minor": 0
      },
      "text/plain": [
       "VBox()"
      ]
     },
     "metadata": {},
     "output_type": "display_data"
    },
    {
     "data": {
      "application/vnd.jupyter.widget-view+json": {
       "model_id": "",
       "version_major": 2,
       "version_minor": 0
      },
      "text/plain": [
       "FloatProgress(value=0.0, bar_style='info', description='Progress:', layout=Layout(height='25px', width='50%'),…"
      ]
     },
     "metadata": {},
     "output_type": "display_data"
    },
    {
     "name": "stdout",
     "output_type": "stream",
     "text": [
      "tokensWithEditionDf: org.apache.spark.sql.Dataset[org.apache.spark.sql.Row] = [edition_total: bigint, edition_id: string ... 1 more field]\n"
     ]
    }
   ],
   "source": [
    "val tokensWithEditionDf = transactionsDf.\n",
    "  filter($\"type\" === \"mint\").\n",
    "  select(\"token_id\", \"transaction_hash\").distinct.\n",
    "  join(editionDf, \"transaction_hash\").\n",
    "  select(\"edition_total\", \"edition_id\", \"token_id\").\n",
    "  cache \n",
    "  "
   ]
  },
  {
   "cell_type": "code",
   "execution_count": 4,
   "id": "3f6ec5aa",
   "metadata": {},
   "outputs": [
    {
     "data": {
      "application/vnd.jupyter.widget-view+json": {
       "model_id": "b33b26db3ca94c318fe11b0cf4b7e3b9",
       "version_major": 2,
       "version_minor": 0
      },
      "text/plain": [
       "VBox()"
      ]
     },
     "metadata": {},
     "output_type": "display_data"
    },
    {
     "data": {
      "application/vnd.jupyter.widget-view+json": {
       "model_id": "",
       "version_major": 2,
       "version_minor": 0
      },
      "text/plain": [
       "FloatProgress(value=0.0, bar_style='info', description='Progress:', layout=Layout(height='25px', width='50%'),…"
      ]
     },
     "metadata": {},
     "output_type": "display_data"
    },
    {
     "name": "stdout",
     "output_type": "stream",
     "text": [
      "res3: Long = 99813\n"
     ]
    }
   ],
   "source": [
    "tokensWithEditionDf.count"
   ]
  },
  {
   "cell_type": "code",
   "execution_count": null,
   "id": "89c03d4c",
   "metadata": {},
   "outputs": [],
   "source": []
  },
  {
   "cell_type": "code",
   "execution_count": null,
   "id": "0f8c3b80",
   "metadata": {},
   "outputs": [],
   "source": []
  },
  {
   "cell_type": "code",
   "execution_count": 4,
   "id": "2ab2be72",
   "metadata": {
    "scrolled": true
   },
   "outputs": [
    {
     "data": {
      "application/vnd.jupyter.widget-view+json": {
       "model_id": "43579b3b91d64602972b40858e6307da",
       "version_major": 2,
       "version_minor": 0
      },
      "text/plain": [
       "VBox()"
      ]
     },
     "metadata": {},
     "output_type": "display_data"
    },
    {
     "data": {
      "application/vnd.jupyter.widget-view+json": {
       "model_id": "",
       "version_major": 2,
       "version_minor": 0
      },
      "text/plain": [
       "FloatProgress(value=0.0, bar_style='info', description='Progress:', layout=Layout(height='25px', width='50%'),…"
      ]
     },
     "metadata": {},
     "output_type": "display_data"
    },
    {
     "name": "stdout",
     "output_type": "stream",
     "text": [
      "metaDfRaw: org.apache.spark.sql.Dataset[org.apache.spark.sql.Row] = [animation_url: string, cached_animation_url: string ... 8 more fields]\n"
     ]
    }
   ],
   "source": [
    "val metaDfRaw = spark.read.json(\"s3://unwind.dev.data/nft/ko/*/meta/\").dropDuplicates(\"token_id\").cache\n",
    "//val metaDfRaw = spark.read.json(\"s3://unwind.dev.data/nft/ko/0xABB3738f04Dc2Ec20f4AE4462c3d069d02AE045B/meta/\").cache"
   ]
  },
  {
   "cell_type": "code",
   "execution_count": 9,
   "id": "14ac6369",
   "metadata": {
    "scrolled": true
   },
   "outputs": [
    {
     "data": {
      "application/vnd.jupyter.widget-view+json": {
       "model_id": "c19c70991ff34845a11b8eecc1aa345f",
       "version_major": 2,
       "version_minor": 0
      },
      "text/plain": [
       "VBox()"
      ]
     },
     "metadata": {},
     "output_type": "display_data"
    },
    {
     "data": {
      "application/vnd.jupyter.widget-view+json": {
       "model_id": "",
       "version_major": 2,
       "version_minor": 0
      },
      "text/plain": [
       "FloatProgress(value=0.0, bar_style='info', description='Progress:', layout=Layout(height='25px', width='50%'),…"
      ]
     },
     "metadata": {},
     "output_type": "display_data"
    },
    {
     "name": "stdout",
     "output_type": "stream",
     "text": [
      "res6: Long = 93275\n"
     ]
    }
   ],
   "source": [
    "metaDfRaw.count"
   ]
  },
  {
   "cell_type": "code",
   "execution_count": 5,
   "id": "343bd50c",
   "metadata": {},
   "outputs": [
    {
     "data": {
      "application/vnd.jupyter.widget-view+json": {
       "model_id": "d75e5504e25f4e3b8375cee322c01bcf",
       "version_major": 2,
       "version_minor": 0
      },
      "text/plain": [
       "VBox()"
      ]
     },
     "metadata": {},
     "output_type": "display_data"
    },
    {
     "data": {
      "application/vnd.jupyter.widget-view+json": {
       "model_id": "",
       "version_major": 2,
       "version_minor": 0
      },
      "text/plain": [
       "FloatProgress(value=0.0, bar_style='info', description='Progress:', layout=Layout(height='25px', width='50%'),…"
      ]
     },
     "metadata": {},
     "output_type": "display_data"
    },
    {
     "name": "stdout",
     "output_type": "stream",
     "text": [
      "+-------------+-----+\n",
      "|theme        |cnt  |\n",
      "+-------------+-----+\n",
      "|null         |27149|\n",
      "|Abstract     |6986 |\n",
      "|Conceptual   |6286 |\n",
      "|Surreal      |5882 |\n",
      "|Illustration |5401 |\n",
      "|Animation    |4607 |\n",
      "|Portrait     |3275 |\n",
      "|Pop art      |2897 |\n",
      "|Cultural     |2792 |\n",
      "|Dark         |2170 |\n",
      "|surreal      |2147 |\n",
      "|dark         |2011 |\n",
      "|illustration |1793 |\n",
      "|Spiritual    |1667 |\n",
      "|conceptual   |1441 |\n",
      "|portrait     |1406 |\n",
      "|Expressionism|1356 |\n",
      "|Nature       |1234 |\n",
      "|abstract     |1219 |\n",
      "|animation    |1019 |\n",
      "+-------------+-----+\n",
      "only showing top 20 rows\n",
      "\n"
     ]
    }
   ],
   "source": [
    "metaDfRaw.groupBy(\"metadata.attributes.theme\").\n",
    "  agg(count(\"*\").as(\"cnt\")).\n",
    "  orderBy($\"cnt\".desc).\n",
    "  show(false)"
   ]
  },
  {
   "cell_type": "code",
   "execution_count": null,
   "id": "e3110b93",
   "metadata": {},
   "outputs": [],
   "source": [
    "//metaDfRaw.filter($\"metadata.attributes.asset_type\" === \"video/mp4\").show(false)"
   ]
  },
  {
   "cell_type": "code",
   "execution_count": null,
   "id": "9ad2c101",
   "metadata": {},
   "outputs": [],
   "source": [
    "// metaDfRaw.\n",
    "// //filter($\"metadata.attributes.asset_type\" === \"video/mp4\").\n",
    "// filter($\"cached_file_url\".isNull).\n",
    "// show(false)"
   ]
  },
  {
   "cell_type": "code",
   "execution_count": 5,
   "id": "17b352c6",
   "metadata": {},
   "outputs": [
    {
     "data": {
      "application/vnd.jupyter.widget-view+json": {
       "model_id": "20c7e5bdc6c440a3b01e480e2eaef94a",
       "version_major": 2,
       "version_minor": 0
      },
      "text/plain": [
       "VBox()"
      ]
     },
     "metadata": {},
     "output_type": "display_data"
    },
    {
     "data": {
      "application/vnd.jupyter.widget-view+json": {
       "model_id": "",
       "version_major": 2,
       "version_minor": 0
      },
      "text/plain": [
       "FloatProgress(value=0.0, bar_style='info', description='Progress:', layout=Layout(height='25px', width='50%'),…"
      ]
     },
     "metadata": {},
     "output_type": "display_data"
    },
    {
     "name": "stdout",
     "output_type": "stream",
     "text": [
      "oldEditionDf: org.apache.spark.sql.Dataset[org.apache.spark.sql.Row] = [image: string, old_edition_id: string ... 1 more field]\n"
     ]
    }
   ],
   "source": [
    "val oldEditionDf = metaDfRaw.\n",
    "  filter($\"contract_address\" === \"0xfbeef911dc5821886e1dda71586d90ed28174b7d\").\n",
    "  groupBy(\"metadata.image\").\n",
    "  agg(min(\"token_id\").as(\"old_edition_id\"), countDistinct(\"token_id\").as(\"old_edition_total\")).\n",
    "  withColumn(\"old_edition_id\", ($\"old_edition_id\" - 1).cast(\"int\").cast(\"string\")).\n",
    "  cache\n",
    "  "
   ]
  },
  {
   "cell_type": "code",
   "execution_count": null,
   "id": "8305d3c2",
   "metadata": {},
   "outputs": [],
   "source": [
    "//oldEditionDf.printSchema"
   ]
  },
  {
   "cell_type": "code",
   "execution_count": 6,
   "id": "f448158b",
   "metadata": {},
   "outputs": [
    {
     "data": {
      "application/vnd.jupyter.widget-view+json": {
       "model_id": "bda331a0136849149f49f24327669d1a",
       "version_major": 2,
       "version_minor": 0
      },
      "text/plain": [
       "VBox()"
      ]
     },
     "metadata": {},
     "output_type": "display_data"
    },
    {
     "data": {
      "application/vnd.jupyter.widget-view+json": {
       "model_id": "",
       "version_major": 2,
       "version_minor": 0
      },
      "text/plain": [
       "FloatProgress(value=0.0, bar_style='info', description='Progress:', layout=Layout(height='25px', width='50%'),…"
      ]
     },
     "metadata": {},
     "output_type": "display_data"
    },
    {
     "name": "stdout",
     "output_type": "stream",
     "text": [
      "metaDf: org.apache.spark.sql.Dataset[org.apache.spark.sql.Row] = [token_id: string, animation_url: string ... 10 more fields]\n"
     ]
    }
   ],
   "source": [
    "val metaDf = metaDfRaw.join(tokensWithEditionDf, \"token_id\").\n",
    "  withColumn(\"image\", $\"metaData.image\").\n",
    "  join(oldEditionDf, Seq(\"image\"), \"left\").\n",
    "  withColumn(\"edition_id\", coalesce($\"old_edition_id\", $\"edition_id\")).\n",
    "  withColumn(\"edition_total\", coalesce($\"old_edition_total\", $\"edition_total\")).\n",
    "  drop(\"image\", \"old_edition_id\", \"old_edition_total\").\n",
    "  cache"
   ]
  },
  {
   "cell_type": "code",
   "execution_count": null,
   "id": "02b6ff2d",
   "metadata": {},
   "outputs": [],
   "source": [
    "// metaDf.\n",
    "//   withColumn(\"edition_id\", coalesce($\"old_edition_id\", $\"edition_id\")).\n",
    "//   withColumn(\"edition_total\", coalesce($\"old_edition_total\", $\"edition_total\")).\n",
    "//   drop(\"image\", \"old_edition_id\", \"old_edition_total\").\n",
    "//   show\n"
   ]
  },
  {
   "cell_type": "code",
   "execution_count": null,
   "id": "c419bd62",
   "metadata": {},
   "outputs": [],
   "source": [
    "//metaDf.filter($\"metaData.image\" === \"https://ipfs.infura.io/ipfs/QmRFjLMJJ8zoaksu4gKus2wjYxJoq7x3NKetJ21hnZvi7g/asset.jpeg\").\n",
    "//select(\"metadata.attributes.artist\", \"token_id\", \"metadata.name\").show(false)"
   ]
  },
  {
   "cell_type": "code",
   "execution_count": null,
   "id": "b343819b",
   "metadata": {},
   "outputs": [],
   "source": [
    "// metaDf.groupBy(\"metaData.image\").\n",
    "//   agg(countDistinct(\"edition_id\").as(\"edition_cnt\"), min(\"edition_id\").as(\"edition_id\")).\n",
    "//   //filter($\"edition_cnt\" === 1).\n",
    "//   orderBy($\"edition_cnt\".desc).show(1000, false)"
   ]
  },
  {
   "cell_type": "code",
   "execution_count": null,
   "id": "f8c7481a",
   "metadata": {},
   "outputs": [],
   "source": [
    "//metaDf.select(\"metaData.image\").distinct.count"
   ]
  },
  {
   "cell_type": "code",
   "execution_count": null,
   "id": "753c342c",
   "metadata": {},
   "outputs": [],
   "source": [
    "//metaDf.filter($\"token_id\" === \"22001\" || $\"token_id\" === \"22002\").\n",
    "// metaDf.filter($\"metaData.image\" === \"https://ipfs.infura.io/ipfs/Qme5AbzusmNopDwyNGFdZQuRQsHPMdMMoP5YMkfyK21Ssq/asset.gif\").\n",
    "// select(\"metadata_url\", \"token_id\", \"metadata.name\", \"file_url\").\n",
    "// show(false)"
   ]
  },
  {
   "cell_type": "code",
   "execution_count": null,
   "id": "62e50509",
   "metadata": {},
   "outputs": [],
   "source": [
    "//metaDf.count"
   ]
  },
  {
   "cell_type": "code",
   "execution_count": null,
   "id": "519db9b1",
   "metadata": {},
   "outputs": [],
   "source": [
    "// metaDf.select(\"contract_address\").distinct.show(false)"
   ]
  },
  {
   "cell_type": "code",
   "execution_count": null,
   "id": "3d3951f8",
   "metadata": {},
   "outputs": [],
   "source": []
  },
  {
   "cell_type": "code",
   "execution_count": null,
   "id": "76045be2-e2af-443b-bff3-3a8bf3bf3f53",
   "metadata": {
    "execution": {
     "iopub.execute_input": "2022-05-19T19:40:06.250905Z",
     "iopub.status.busy": "2022-05-19T19:40:06.250643Z",
     "iopub.status.idle": "2022-05-19T19:40:07.058018Z",
     "shell.execute_reply": "2022-05-19T19:40:07.056961Z",
     "shell.execute_reply.started": "2022-05-19T19:40:06.250873Z"
    },
    "tags": []
   },
   "outputs": [],
   "source": [
    "//metaDf.select(\"metadata.attributes.artist\").distinct.count"
   ]
  },
  {
   "cell_type": "code",
   "execution_count": 7,
   "id": "c8d9e6c3",
   "metadata": {},
   "outputs": [
    {
     "data": {
      "application/vnd.jupyter.widget-view+json": {
       "model_id": "63ee41a6f966462495c180eea509d07d",
       "version_major": 2,
       "version_minor": 0
      },
      "text/plain": [
       "VBox()"
      ]
     },
     "metadata": {},
     "output_type": "display_data"
    },
    {
     "data": {
      "application/vnd.jupyter.widget-view+json": {
       "model_id": "",
       "version_major": 2,
       "version_minor": 0
      },
      "text/plain": [
       "FloatProgress(value=0.0, bar_style='info', description='Progress:', layout=Layout(height='25px', width='50%'),…"
      ]
     },
     "metadata": {},
     "output_type": "display_data"
    },
    {
     "name": "stdout",
     "output_type": "stream",
     "text": [
      "transactionsWithMetaDf: org.apache.spark.sql.Dataset[org.apache.spark.sql.Row] = [token_id: string, block_hash: string ... 27 more fields]\n"
     ]
    }
   ],
   "source": [
    "val transactionsWithMetaDf = transactionsDf.\n",
    "  filter(($\"type\" === \"transfer\" && $\"transfer_to\" =!= \"0x000000000000000000000000000000000000dead\") || ($\"type\" === \"mint\" && $\"contract_address\" === \"0xfbeef911dc5821886e1dda71586d90ed28174b7d\") || $\"type\" === \"sale\").\n",
    "  withColumn(\"transfer_to\", coalesce($\"transfer_to\", $\"buyer_address\", $\"owner_address\")).\n",
    "  withColumn(\"token_id\", coalesce($\"token_id\", $\"nft.token_id\")).\n",
    "  join(metaDf, \"token_id\").\n",
    "  dropDuplicates(\"transfer_to\", \"transaction_hash\", \"edition_id\").\n",
    "  withColumn(\"timestamp\", $\"transaction_date\".cast(\"timestamp\").cast(\"long\")).\n",
    "  cache"
   ]
  },
  {
   "cell_type": "code",
   "execution_count": 10,
   "id": "b6eea159",
   "metadata": {},
   "outputs": [
    {
     "data": {
      "application/vnd.jupyter.widget-view+json": {
       "model_id": "110bad8c116e424c95196df063e6db61",
       "version_major": 2,
       "version_minor": 0
      },
      "text/plain": [
       "VBox()"
      ]
     },
     "metadata": {},
     "output_type": "display_data"
    },
    {
     "data": {
      "application/vnd.jupyter.widget-view+json": {
       "model_id": "",
       "version_major": 2,
       "version_minor": 0
      },
      "text/plain": [
       "FloatProgress(value=0.0, bar_style='info', description='Progress:', layout=Layout(height='25px', width='50%'),…"
      ]
     },
     "metadata": {},
     "output_type": "display_data"
    },
    {
     "name": "stdout",
     "output_type": "stream",
     "text": [
      "res7: Long = 61758\n"
     ]
    }
   ],
   "source": [
    "transactionsWithMetaDf.count"
   ]
  },
  {
   "cell_type": "code",
   "execution_count": 9,
   "id": "e5c5cb45",
   "metadata": {},
   "outputs": [
    {
     "data": {
      "application/vnd.jupyter.widget-view+json": {
       "model_id": "5bb0a439501245e7bde80d55e0158e4c",
       "version_major": 2,
       "version_minor": 0
      },
      "text/plain": [
       "VBox()"
      ]
     },
     "metadata": {},
     "output_type": "display_data"
    },
    {
     "data": {
      "application/vnd.jupyter.widget-view+json": {
       "model_id": "",
       "version_major": 2,
       "version_minor": 0
      },
      "text/plain": [
       "FloatProgress(value=0.0, bar_style='info', description='Progress:', layout=Layout(height='25px', width='50%'),…"
      ]
     },
     "metadata": {},
     "output_type": "display_data"
    },
    {
     "name": "stdout",
     "output_type": "stream",
     "text": [
      "+------------------------------------------+----------+---+\n",
      "|transfer_to                               |edition_id|wt |\n",
      "+------------------------------------------+----------+---+\n",
      "|0x24fc3694928acfcf4c08d7771d1b2e64b44b53a7|9854000   |200|\n",
      "|0x37ec905b4b508292c63a294c648a346413167eaf|9854000   |199|\n",
      "|0x1e6c2d786bc1ce71e8fc27451c31ba6713c00f23|4644000   |50 |\n",
      "|0x1e6c2d786bc1ce71e8fc27451c31ba6713c00f23|3757000   |46 |\n",
      "|0x899b2685c26f51d9f15933f2c26706c2f24c6b85|2197000   |43 |\n",
      "|0x899b2685c26f51d9f15933f2c26706c2f24c6b85|4643000   |41 |\n",
      "|0x899b2685c26f51d9f15933f2c26706c2f24c6b85|3803000   |41 |\n",
      "|0x121bf018c4260ff74d1a223fa3f5faa26140f986|50700     |34 |\n",
      "|0x406f4533b2f6209812d7ef9c7d69b8c54217c208|54800     |32 |\n",
      "|0x7895e668bd43c9623af538f274c06cb22cbc74f2|6271000   |27 |\n",
      "|0x1e6c2d786bc1ce71e8fc27451c31ba6713c00f23|2197000   |27 |\n",
      "|0x73186b2a81952c2340c4eb2e74e89869e1183df0|134850    |25 |\n",
      "|0x73186b2a81952c2340c4eb2e74e89869e1183df0|139800    |25 |\n",
      "|0x73186b2a81952c2340c4eb2e74e89869e1183df0|135100    |25 |\n",
      "|0x73186b2a81952c2340c4eb2e74e89869e1183df0|135750    |25 |\n",
      "|0x899b2685c26f51d9f15933f2c26706c2f24c6b85|4644000   |25 |\n",
      "|0x1e6c2d786bc1ce71e8fc27451c31ba6713c00f23|3803000   |25 |\n",
      "|0x640f4bb7a5a8ecac6eaf31d63857a4f4a962a62e|129300    |25 |\n",
      "|0x73186b2a81952c2340c4eb2e74e89869e1183df0|135400    |24 |\n",
      "|0xf52393e120f918ffba50410b90a29b1f8250c879|27900     |24 |\n",
      "+------------------------------------------+----------+---+\n",
      "only showing top 20 rows\n",
      "\n"
     ]
    }
   ],
   "source": [
    "transactionsWithMetaDf.\n",
    "  groupBy($\"transfer_to\", $\"edition_id\").\n",
    "  agg(count(\"*\").as(\"wt\")).\n",
    "  orderBy($\"wt\".desc).\n",
    "  show(false)"
   ]
  },
  {
   "cell_type": "code",
   "execution_count": 8,
   "id": "7cca951b",
   "metadata": {},
   "outputs": [
    {
     "data": {
      "application/vnd.jupyter.widget-view+json": {
       "model_id": "00bd52dec86c48c983a695bae0f3fd9e",
       "version_major": 2,
       "version_minor": 0
      },
      "text/plain": [
       "VBox()"
      ]
     },
     "metadata": {},
     "output_type": "display_data"
    },
    {
     "data": {
      "application/vnd.jupyter.widget-view+json": {
       "model_id": "",
       "version_major": 2,
       "version_minor": 0
      },
      "text/plain": [
       "FloatProgress(value=0.0, bar_style='info', description='Progress:', layout=Layout(height='25px', width='50%'),…"
      ]
     },
     "metadata": {},
     "output_type": "display_data"
    },
    {
     "name": "stdout",
     "output_type": "stream",
     "text": [
      "washTradingBaseDf: org.apache.spark.sql.Dataset[org.apache.spark.sql.Row] = [token_id: string, transaction_date: string ... 4 more fields]\n"
     ]
    }
   ],
   "source": [
    "val washTradingBaseDf = transactionsWithMetaDf.as(\"a\").\n",
    "  join(transactionsWithMetaDf.as(\"b\"), Seq(\"token_id\")).\n",
    "  filter($\"a.transaction_date\" < $\"b.transaction_date\" && $\"a.transfer_to\" === $\"b.transfer_from\").\n",
    "  withColumn(\"timestamp_delta\", $\"b.timestamp\" - $\"a.timestamp\").\n",
    "  groupBy($\"token_id\", $\"b.transaction_date\", $\"b.transfer_from\").\n",
    "  agg(min($\"timestamp_delta\").as(\"timestamp_delta\"), first(\"b.edition_id\").as(\"edition_id\"), first(\"b.metadata.attributes.artist\").as(\"artist\")).\n",
    "  cache"
   ]
  },
  {
   "cell_type": "code",
   "execution_count": 9,
   "id": "400d9501",
   "metadata": {},
   "outputs": [
    {
     "data": {
      "application/vnd.jupyter.widget-view+json": {
       "model_id": "f9f21710ee674c279e32759df5bca9a2",
       "version_major": 2,
       "version_minor": 0
      },
      "text/plain": [
       "VBox()"
      ]
     },
     "metadata": {},
     "output_type": "display_data"
    },
    {
     "data": {
      "application/vnd.jupyter.widget-view+json": {
       "model_id": "",
       "version_major": 2,
       "version_minor": 0
      },
      "text/plain": [
       "FloatProgress(value=0.0, bar_style='info', description='Progress:', layout=Layout(height='25px', width='50%'),…"
      ]
     },
     "metadata": {},
     "output_type": "display_data"
    }
   ],
   "source": [
    "washTradingBaseDf.\n",
    "  groupBy(\"edition_id\", \"transfer_from\").\n",
    "  agg(count(\"*\").as(\"trades\")).\n",
    "  createOrReplaceTempView(\"agg\")"
   ]
  },
  {
   "cell_type": "code",
   "execution_count": 10,
   "id": "26dec388",
   "metadata": {},
   "outputs": [
    {
     "data": {
      "application/vnd.jupyter.widget-view+json": {
       "model_id": "",
       "version_major": 2,
       "version_minor": 0
      },
      "text/plain": [
       "FloatProgress(value=0.0, bar_style='info', description='Progress:', layout=Layout(height='25px', width='50%'),…"
      ]
     },
     "metadata": {},
     "output_type": "display_data"
    },
    {
     "data": {
      "application/vnd.jupyter.widget-view+json": {
       "model_id": "cbb37641c8704b9c8e01626b77a0b3e7",
       "version_major": 2,
       "version_minor": 0
      },
      "text/plain": [
       "VBox(children=(HBox(children=(HTML(value='Type:'), Button(description='Table', layout=Layout(width='70px'), st…"
      ]
     },
     "metadata": {},
     "output_type": "display_data"
    },
    {
     "data": {
      "application/vnd.jupyter.widget-view+json": {
       "model_id": "324edc74efc245b0bd2d9a8e5470df28",
       "version_major": 2,
       "version_minor": 0
      },
      "text/plain": [
       "Output()"
      ]
     },
     "metadata": {},
     "output_type": "display_data"
    }
   ],
   "source": [
    "%%sql\n",
    "select * from agg\n",
    "order by trades desc\n",
    "limit 100"
   ]
  },
  {
   "cell_type": "code",
   "execution_count": 11,
   "id": "75facd2f",
   "metadata": {},
   "outputs": [
    {
     "data": {
      "application/vnd.jupyter.widget-view+json": {
       "model_id": "5fd99cc8df374c7dbbbf3e61a75ffcbc",
       "version_major": 2,
       "version_minor": 0
      },
      "text/plain": [
       "VBox()"
      ]
     },
     "metadata": {},
     "output_type": "display_data"
    },
    {
     "data": {
      "application/vnd.jupyter.widget-view+json": {
       "model_id": "",
       "version_major": 2,
       "version_minor": 0
      },
      "text/plain": [
       "FloatProgress(value=0.0, bar_style='info', description='Progress:', layout=Layout(height='25px', width='50%'),…"
      ]
     },
     "metadata": {},
     "output_type": "display_data"
    }
   ],
   "source": [
    "transactionsWithMetaDf.\n",
    "  filter($\"edition_id\" === \"2197000\").\n",
    "  groupBy(\"transfer_to\", \"transfer_from\").\n",
    "  agg(count(\"*\").as(\"trades\")).\n",
    "  coalesce(1).\n",
    "  write.option(\"header\",true).csv(\"s3://unwind.dev.data/nft/output/ko/new/transfer_graph/2197000\")"
   ]
  },
  {
   "cell_type": "code",
   "execution_count": 22,
   "id": "4353d3a3",
   "metadata": {},
   "outputs": [
    {
     "data": {
      "application/vnd.jupyter.widget-view+json": {
       "model_id": "ac044e1990d3443abb83f6f910aa01c8",
       "version_major": 2,
       "version_minor": 0
      },
      "text/plain": [
       "VBox()"
      ]
     },
     "metadata": {},
     "output_type": "display_data"
    },
    {
     "data": {
      "application/vnd.jupyter.widget-view+json": {
       "model_id": "",
       "version_major": 2,
       "version_minor": 0
      },
      "text/plain": [
       "FloatProgress(value=0.0, bar_style='info', description='Progress:', layout=Layout(height='25px', width='50%'),…"
      ]
     },
     "metadata": {},
     "output_type": "display_data"
    },
    {
     "name": "stdout",
     "output_type": "stream",
     "text": [
      "+------------------------------------------------------------------+\n",
      "|transaction_hash                                                  |\n",
      "+------------------------------------------------------------------+\n",
      "|0x71f610c1835d55fe96391b3719379f1f00d24b4c34e4e515a459da5d0c2b874c|\n",
      "|0xc731962a4dd977c28bb5a1705e29de08667fe13dfe57bd0c3193ec17e22f1880|\n",
      "|0x86112320e62a2382fa8bf43c927ee5edab17b84e50a8433aba96d4a733c2a577|\n",
      "|0xc181cba691d0bcc28a151bdd7199059a7e36ff0991a533130dd920d09d34e906|\n",
      "|0xc2b0707b830ac6b075c0169144021e25f5c409355471acb49d5bc06fd4307c4f|\n",
      "|0x4624beec87df34437a01b70186b0dae8ea80b2ed14a5ae1e2d7758eba2f10b81|\n",
      "|0x787262b72c040363b902bcad21d0072002593495ac476e43a05d6db2a13fa510|\n",
      "|0xd1eed3f05b23d0adfb75e5456603cd5a9b2b383454d489aa2491e404878daa21|\n",
      "|0xfaeb266244e2d1f4888f0737b4a8f53f632b3d0c3ce02087032e1d4696c5afc9|\n",
      "|0xc6c6733969f85e1de6748df66a2b59b2e1569632f9bf3e81ec27ed47a0de996d|\n",
      "|0x71d5929e23cd667ccabaf47274b8fc8afd1175c067228922e7f0baa590bd2ac3|\n",
      "|0xe72b5da4d27fd2673121870828722d4b45f07395d2527288d22a4dd7c25ecbef|\n",
      "|0x63560bb844ea33baddb8279fea67ba1c7fe6978d2557dc27e937e39bd4a882c6|\n",
      "|0x6bc3ebdee7111850e1fc3a13f1db6a34514c157a57bb1dc1445ae49db6b24e7b|\n",
      "|0x911827da1c42e5d213c5d474256d861b583646790610dec4f01360aa8dc13b2c|\n",
      "|0xddb5e400fbf14e8d2fb2755fcd33a3a220ac9ddcd0bbb10243fa2736e20f714b|\n",
      "|0xf153b45149f4097c48a2e999c842176b1857068c4c04fea9bff257cbd131961a|\n",
      "|0xe0b2622f4cd637eacd27baf3f4d8da5909e9e9410d41fe93fb23042640215a31|\n",
      "|0xdc936f40ca42e60138a5aaaa217567a0890dc1fb325eaab78b09c83a1eef4bdb|\n",
      "|0x39c2198cc408c6339f1f71adac6c5162d94e4fd1c3badaf860cde45a398771ee|\n",
      "+------------------------------------------------------------------+\n",
      "only showing top 20 rows\n",
      "\n"
     ]
    }
   ],
   "source": [
    "transactionsWithMetaDf.filter($\"transfer_to\" === \"0x24fc3694928acfcf4c08d7771d1b2e64b44b53a7\" && $\"transfer_from\" === \"0x37ec905b4b508292c63a294c648a346413167eaf\").select(\"transaction_hash\").show(false)"
   ]
  },
  {
   "cell_type": "code",
   "execution_count": 9,
   "id": "3bb0f90b",
   "metadata": {},
   "outputs": [
    {
     "data": {
      "application/vnd.jupyter.widget-view+json": {
       "model_id": "6456a526ec0e4c94a5beb71dc4f2159c",
       "version_major": 2,
       "version_minor": 0
      },
      "text/plain": [
       "VBox()"
      ]
     },
     "metadata": {},
     "output_type": "display_data"
    },
    {
     "data": {
      "application/vnd.jupyter.widget-view+json": {
       "model_id": "",
       "version_major": 2,
       "version_minor": 0
      },
      "text/plain": [
       "FloatProgress(value=0.0, bar_style='info', description='Progress:', layout=Layout(height='25px', width='50%'),…"
      ]
     },
     "metadata": {},
     "output_type": "display_data"
    },
    {
     "name": "stdout",
     "output_type": "stream",
     "text": [
      "+------------------------------------------------------------------+\n",
      "|transaction_hash                                                  |\n",
      "+------------------------------------------------------------------+\n",
      "|0x90c710fe904402b19900e31f4fd54ffa384a11582b1b2b47dc7b17e0f9730316|\n",
      "|0x50206859819c554db7ae5fdd13cdd2569bf2017cd4c3395c9bf60ce70a54ca56|\n",
      "|0x5cc3cb61e1fb62bce8e3c4c35da44f19e97d4bf4619af84bbb44dfbb5f0571fb|\n",
      "|0x6053385fa77f7ebbd0488c7cf786ece396b3f65b3cc6044e36ea5e6b28479b6a|\n",
      "|0xb5d92988f62582037d60c4e37a48065adc82701b3483852b3b2654b5f7229dd0|\n",
      "|0x6b555292736b6013dbaab5f5100de5fdde4172c2f7ff6fb4bdc4fd51021c75ae|\n",
      "|0x3e59fe21322b3bf9eea8c45b4e42f140af187d2a4f6cba6a9224bd84dc070a99|\n",
      "|0x1087b17aa1cea7e54d1a77f012cec918a625125e3704f305dc438e2b0ec77852|\n",
      "|0x126043b9ec312c0b4d104f0546db689ed2f9d800857370662c614bb9803883eb|\n",
      "|0x1bd8fac690195dbfe5c6f1e1f9d685415a3890a46a8dbc4450caeb32c864750e|\n",
      "|0xfabe8ace61d0094891c2c752179b81c5c5482867800045aa45e4384185554d4f|\n",
      "|0xb8aa0f5af8f8c8d882061406339a9cd1b6b99eccfbe989116b3e0fd2fd9f6773|\n",
      "|0xebbd42c6f2ef56181abf384dabd81960b286b85c6a50627e1b9e4d63f9d38d47|\n",
      "|0xfa7e478da5438b33bd61f4a5d8d6574cba9aafff7572455895f1fbaa87b13e67|\n",
      "|0xa32914dfe56f18cd0b2d3953791d6d0b21f8bcb72cba1c8232f2c66a62e37b94|\n",
      "|0x13ea99da8a6b5a64ae055c531563eb04529e7e469fc88ed4f7394b12b5e4c4ff|\n",
      "|0xd4989ddd7e20854e6b57f1d139afad5cafcc9eb54488b80cf91d76bd52f57d0e|\n",
      "|0x272a3076f0117109c7bbbd3729b33cad7d3760ab6f5d91a808635eb54e213813|\n",
      "|0x1837c21c22f950e44251369f1d8b7a88cfa751c6755bd419e8c6acd18ddc5bd4|\n",
      "|0x9f85e1b41fed5dee0f7f23988b3932b3dc6e5cbb22a983854e9756673a55d85c|\n",
      "+------------------------------------------------------------------+\n",
      "only showing top 20 rows\n",
      "\n"
     ]
    }
   ],
   "source": [
    "transactionsWithMetaDf.filter($\"transfer_to\" === $\"transfer_from\").select(\"transaction_hash\").show(false)"
   ]
  },
  {
   "cell_type": "code",
   "execution_count": 53,
   "id": "d29e179d",
   "metadata": {},
   "outputs": [
    {
     "data": {
      "application/vnd.jupyter.widget-view+json": {
       "model_id": "20cced1b1cf3415a8791301169e333b6",
       "version_major": 2,
       "version_minor": 0
      },
      "text/plain": [
       "VBox()"
      ]
     },
     "metadata": {},
     "output_type": "display_data"
    },
    {
     "data": {
      "application/vnd.jupyter.widget-view+json": {
       "model_id": "",
       "version_major": 2,
       "version_minor": 0
      },
      "text/plain": [
       "FloatProgress(value=0.0, bar_style='info', description='Progress:', layout=Layout(height='25px', width='50%'),…"
      ]
     },
     "metadata": {},
     "output_type": "display_data"
    }
   ],
   "source": [
    "washTradingBaseDf.\n",
    "  withColumn(\"minutes\", lit(10) * ($\"timestamp_delta\" / 600).cast(\"int\")).\n",
    "  filter($\"minutes\" < 10080).  \n",
    "  withColumn(\"minutes\", when($\"minutes\" < 1440, $\"minutes\").otherwise(1440)).\n",
    "  groupBy(\"minutes\").\n",
    "  agg(count(\"*\").as(\"trades\")).\n",
    "  createOrReplaceTempView(\"agg\")"
   ]
  },
  {
   "cell_type": "code",
   "execution_count": 60,
   "id": "c5a83b95",
   "metadata": {},
   "outputs": [
    {
     "data": {
      "application/vnd.jupyter.widget-view+json": {
       "model_id": "",
       "version_major": 2,
       "version_minor": 0
      },
      "text/plain": [
       "FloatProgress(value=0.0, bar_style='info', description='Progress:', layout=Layout(height='25px', width='50%'),…"
      ]
     },
     "metadata": {},
     "output_type": "display_data"
    },
    {
     "data": {
      "application/vnd.jupyter.widget-view+json": {
       "model_id": "1e78ab44023145d39f94a07e71ec3bc1",
       "version_major": 2,
       "version_minor": 0
      },
      "text/plain": [
       "VBox(children=(HBox(children=(HTML(value='Type:'), Button(description='Table', layout=Layout(width='70px'), st…"
      ]
     },
     "metadata": {},
     "output_type": "display_data"
    },
    {
     "data": {
      "application/vnd.jupyter.widget-view+json": {
       "model_id": "a7554e00a9344b4995e058dcd3428e04",
       "version_major": 2,
       "version_minor": 0
      },
      "text/plain": [
       "Output()"
      ]
     },
     "metadata": {},
     "output_type": "display_data"
    }
   ],
   "source": [
    "%%sql\n",
    "select * from agg\n"
   ]
  },
  {
   "cell_type": "code",
   "execution_count": 19,
   "id": "45ce3ba6",
   "metadata": {},
   "outputs": [
    {
     "data": {
      "application/vnd.jupyter.widget-view+json": {
       "model_id": "d1eb1078084648ecb1847b6e86c6d8d3",
       "version_major": 2,
       "version_minor": 0
      },
      "text/plain": [
       "VBox()"
      ]
     },
     "metadata": {},
     "output_type": "display_data"
    },
    {
     "data": {
      "application/vnd.jupyter.widget-view+json": {
       "model_id": "",
       "version_major": 2,
       "version_minor": 0
      },
      "text/plain": [
       "FloatProgress(value=0.0, bar_style='info', description='Progress:', layout=Layout(height='25px', width='50%'),…"
      ]
     },
     "metadata": {},
     "output_type": "display_data"
    },
    {
     "name": "stdout",
     "output_type": "stream",
     "text": [
      "+-------------------+------------------------------------------------------------------+-----------+\n",
      "|transaction_date   |transaction_hash                                                  |marketplace|\n",
      "+-------------------+------------------------------------------------------------------+-----------+\n",
      "|2022-04-01T15:48:30|0xbbf564def370f60bed3c49b3403105c9cac4a8da35e9ce7e05d9ac014b741c37|null       |\n",
      "|2022-04-01T16:25:48|0xcc59f0e6d945dd5c9c6cec1cd68f293dfa5af2cfaa7e1db45dd572fff309b5f0|null       |\n",
      "|2022-04-01T16:29:52|0x683d21a9a5cabcb0cd68fce5fb98c58817a89a3d766ae30fcaac1c08bd1d2374|null       |\n",
      "|2022-04-01T16:46:17|0x4b3e47696c8ee8e6d43347d72f0f5892de63bfca7cf79222e6fcfd4e45e27dba|null       |\n",
      "|2022-04-01T16:54:28|0xeb5976886edbdfb2707c52e5e01c69991e1393de05f1b9588e2031af9d9a95ff|null       |\n",
      "|2022-04-01T17:23:33|0x4bb6a6b138f11df39dd7747b99bb46a64b76c68f43b51f0717bf40274d92685d|null       |\n",
      "|2022-04-01T17:33:10|0x92eb4251f11dfdb9919043a55f3633c47c10a9641160b344f20dca750ddffac4|null       |\n",
      "|2022-04-01T17:40:21|0x8c98b5e5d4c1a48ee9ccfd931e6f21d6965e37825ae6b6688acbb4d3335bd684|null       |\n",
      "|2022-04-01T17:46:14|0x343a841699be062aa02623b1fd955b28b6975726130ca85bc38c656f9bc188d1|null       |\n",
      "|2022-04-01T17:51:22|0x57b4f73601f641efd604c7dd3c83e6236def94f8e5a06c81341c7838bffbd1b4|null       |\n",
      "|2022-04-01T18:00:13|0x9eadd56177ae6531043c6effcf621a01ea93affc7a0a03ca88389bb0ce971c3f|null       |\n",
      "|2022-04-01T18:05:11|0x5623517a2e450b615f296c45bb309e0a13e9ffce7aeb42d62bb366f487d024ec|null       |\n",
      "|2022-04-01T18:10:51|0x1e3a3b8ff90a87c06851634be0ab3d26ece87926ce88bbe15dddcfe0c5b4e6c8|null       |\n",
      "|2022-04-01T18:23:54|0xb74aa8b47771f2878c4cac2123b93bb0a82b5af46b2bfcbff7b65039769d5a7e|null       |\n",
      "|2022-04-01T18:31:04|0x15975979323feee31167d493797ebbf34a91391de43bd8041cf4b619fdc76990|null       |\n",
      "|2022-04-01T18:37:47|0x0478d1bbc87af531ee0cdc7a72480039daf2d79beb91b811cab995577c9e90bf|null       |\n",
      "|2022-04-01T18:45:49|0x6434223682ec9d9afece0e038e403ce78da9161def80085e5132291994efcc15|null       |\n",
      "|2022-04-01T18:52:28|0xf8b1db63bb371195242d44bf34b33bc0aacdbd688a8f092d2cf3380062d432ba|null       |\n",
      "|2022-04-01T19:01:26|0xd8e28f810cbe7f2f7bce31b6143a188996ebff92a311052dba5f4a47e7e94292|null       |\n",
      "|2022-04-01T19:10:04|0x643938ae1bb76d47290a32ad71e508eaca5e51ceb0abfbce44d016a5fa663a94|null       |\n",
      "+-------------------+------------------------------------------------------------------+-----------+\n",
      "only showing top 20 rows\n",
      "\n"
     ]
    }
   ],
   "source": [
    "transactionsWithMetaDf.\n",
    "  filter($\"transfer_to\" === \"0x899b2685c26f51d9f15933f2c26706c2f24c6b85\" && $\"token_id\" === \"2197005\").\n",
    "  orderBy($\"transaction_date\".asc).\n",
    "  select(\"transaction_date\", \"transaction_hash\", \"marketplace\").\n",
    "  show(false)"
   ]
  },
  {
   "cell_type": "code",
   "execution_count": 27,
   "id": "215a79cc",
   "metadata": {},
   "outputs": [
    {
     "data": {
      "application/vnd.jupyter.widget-view+json": {
       "model_id": "46032abeb50b44bb9313c91a96abeead",
       "version_major": 2,
       "version_minor": 0
      },
      "text/plain": [
       "VBox()"
      ]
     },
     "metadata": {},
     "output_type": "display_data"
    },
    {
     "data": {
      "application/vnd.jupyter.widget-view+json": {
       "model_id": "",
       "version_major": 2,
       "version_minor": 0
      },
      "text/plain": [
       "FloatProgress(value=0.0, bar_style='info', description='Progress:', layout=Layout(height='25px', width='50%'),…"
      ]
     },
     "metadata": {},
     "output_type": "display_data"
    },
    {
     "name": "stdout",
     "output_type": "stream",
     "text": [
      "+--------+--------------------+------------+-------------+--------------------+--------------+-----------+----+--------------------+-------------+--------+--------------+-------------------+--------------------+--------------------+--------------------+--------+--------------------+--------------------+--------------------+--------+--------------------+--------------------+--------------------+--------------------+--------------------+-------------+----------+\n",
      "|token_id|          block_hash|block_number|buyer_address|    contract_address|lister_address|marketplace| nft|       owner_address|price_details|quantity|seller_address|   transaction_date|    transaction_hash|       transfer_from|         transfer_to|    type|       animation_url|cached_animation_url|     cached_file_url|   chain|    contract_address|            file_url|            metadata|        metadata_url|        updated_date|edition_total|edition_id|\n",
      "+--------+--------------------+------------+-------------+--------------------+--------------+-----------+----+--------------------+-------------+--------+--------------+-------------------+--------------------+--------------------+--------------------+--------+--------------------+--------------------+--------------------+--------+--------------------+--------------------+--------------------+--------------------+--------------------+-------------+----------+\n",
      "|  144780|0xdba7d7a04210e2e...|     9704141|         null|0xfbeef911dc58218...|          null|       null|null|0x000000000000000...|         null|       1|          null|2020-03-19T20:02:48|0xd5b7b3bb46aa255...|                null|0x000000000000000...|    mint|                null|                null|https://storage.g...|ethereum|0xfbeef911dc58218...|https://ipfs.infu...|[,, [Peter Bock,,...|https://ipfs.infu...|2022-04-18T15:18:...|            5|    144775|\n",
      "| 6073008|0xc08aa6ebaa16f22...|    14262632|         null|0xabb3738f04dc2ec...|          null|       null|null|                null|         null|       1|          null|2022-02-23T13:36:27|0xd5b41b7910fd6eb...|0x3db9ae7d5341249...|0x00d98f64903d990...|transfer|                null|                null|https://storage.g...|ethereum|0xabb3738f04dc2ec...|ipfs://QmUkqVxV1F...|[, 0x3db9ae7d5341...|ipfs://ipfs/Qmf9g...|2022-05-26T10:57:...|           10|   6073000|\n",
      "| 3592000|0x49907b046437b8f...|    13504809|         null|0xabb3738f04dc2ec...|          null|       null|null|                null|         null|       1|          null|2021-10-28T09:04:48|0x607099b4b536875...|0xabb94dbdd360cc0...|0x02eb75be1e72e98...|transfer|ipfs://QmZjy1Dpgr...|https://storage.g...|https://storage.g...|ethereum|0xabb3738f04dc2ec...|ipfs://QmT9qfRbAk...|[ipfs://QmZjy1Dpg...|ipfs://ipfs/QmeD7...|2022-05-26T11:01:...|           11|   3592000|\n",
      "|  148101|0xea5748a125953c3...|    10703219|         null|0xfbeef911dc58218...|          null|       null|null|0x02f6f3305b21ee1...|         null|       1|          null|2020-08-21T11:10:47|0x16ac7dccc241c81...|                null|0x02f6f3305b21ee1...|    mint|                null|                null|https://storage.g...|ethereum|0xfbeef911dc58218...|https://ipfs.infu...|[,, [miss al simp...|https://ipfs.infu...|2022-04-18T15:18:...|            1|    148100|\n",
      "| 2290005|0x191a1a53f28e782...|    13435406|         null|0xabb3738f04dc2ec...|          null|       null|null|                null|         null|       1|          null|2021-10-17T12:20:36|0x2bcd67c856bd293...|0x8e04f3f772b4250...|0x039598a95722f15...|transfer|                null|                null|https://storage.g...|ethereum|0xabb3738f04dc2ec...|ipfs://QmYqyF5BWq...|[, 0x8e04f3f772b4...|ipfs://ipfs/QmXW2...|2022-05-26T11:01:...|           10|   2290000|\n",
      "|  339403|0x2e3197fe38db74d...|    13067763|         null|0xfbeef911dc58218...|          null|       null|null|                null|         null|       1|          null|2021-08-21T09:17:26|0x3da28ba839364a3...|0xaa48190d210c21c...|0x03d1313093783a2...|transfer|                null|                null|https://storage.g...|ethereum|0xfbeef911dc58218...|https://ipfs.infu...|[, 0xbf4dd7ab937b...|https://ipfs.infu...|2022-04-18T15:29:...|            7|    339400|\n",
      "|   79978|0x08ad9d8c12f18ab...|     9597103|         null|0xfbeef911dc58218...|          null|       null|null|0x0647e46db55a10e...|         null|       1|          null|2020-03-03T08:31:05|0x14d7328cf138c0b...|                null|0x0647e46db55a10e...|    mint|                null|                null|https://storage.g...|ethereum|0xfbeef911dc58218...|https://ipfs.infu...|[,, [Verdaccio Do...|https://ipfs.infu...|2022-04-18T15:12:...|            3|     79975|\n",
      "| 8962009|0x2a63445af11e5c5...|    15021068|         null|0xabb3738f04dc2ec...|          null|       null|null|                null|         null|       1|          null|2022-06-25T00:51:20|0xf8085b932a559b4...|0x29b54625d1ac801...|0x0830337ed8d752b...|transfer|ipfs://QmP75eHTo9...|https://storage.g...|https://storage.g...|ethereum|0xabb3738f04dc2ec...|ipfs://QmTZ9gKw6h...|[ipfs://QmP75eHTo...|ipfs://ipfs/QmQK8...|2022-05-26T10:53:...|           10|   8962000|\n",
      "|  644402|0xbefb76c49bd02e5...|    13076764|         null|0xfbeef911dc58218...|          null|       null|null|                null|         null|       1|          null|2021-08-22T18:33:14|0x0a0ca066d87715b...|0xdb08edbcf449de2...|0x0a690b298f84d12...|transfer|                null|                null|https://storage.g...|ethereum|0xfbeef911dc58218...|https://ipfs.infu...|[, 0xe288a00df4b6...|https://ipfs.infu...|2022-04-18T15:32:...|            5|    644400|\n",
      "|  119333|0xbb9cb1b6ae0b3f0...|     9327563|         null|0xfbeef911dc58218...|          null|       null|null|                null|         null|       1|          null|2020-01-21T22:16:23|0x541da58c27c5779...|0xf43bc6f9c94551d...|0x0bc95f14395270a...|transfer|                null|                null|https://storage.g...|ethereum|0xfbeef911dc58218...|https://ipfs.infu...|[,, [XCOPY,, imag...|https://ipfs.infu...|2022-04-18T15:15:...|           25|    119325|\n",
      "|  127923|0xb4c52b55af794aa...|    11121709|         null|0xfbeef911dc58218...|          null|       null|null|                null|         null|       1|          null|2020-10-24T22:04:03|0x64973adc14f2942...|0xf43bc6f9c94551d...|0x0bc95f14395270a...|transfer|                null|                null|https://storage.g...|ethereum|0xfbeef911dc58218...|https://ipfs.infu...|[,, [Hackatao,, i...|https://ipfs.infu...|2022-07-02T21:35:...|           23|    127900|\n",
      "|10382015|0xe21da67bc0ddd4d...|    14693260|         null|0xabb3738f04dc2ec...|          null|       null|null|                null|         null|       1|          null|2022-05-01T17:24:53|0x5269641c963f665...|0xce0fab858f7d247...|0x0c656922a9d9938...|transfer|                null|                null|https://storage.g...|ethereum|0xabb3738f04dc2ec...|ipfs://QmcajEaAQU...|[, 0x8e04f3f772b4...|ipfs://ipfs/QmSYe...|2022-05-26T10:49:...|           20|  10382000|\n",
      "|   23218|0x78af0586ac07102...|     6617693|         null|0xfbeef911dc58218...|          null|       null|null|0x0da07e67c2ca3a3...|         null|       1|          null|2018-10-31T13:07:03|0x99a5db705de39d8...|                null|0x0da07e67c2ca3a3...|    mint|                null|                null|https://storage.g...|ethereum|0xfbeef911dc58218...|https://ipfs.infu...|[,, [CoinJournal,...|https://ipfs.infu...|2022-04-18T15:10:...|           25|     23200|\n",
      "|  280176|0x91a66744b680d13...|    11905350|         null|0xfbeef911dc58218...|          null|       null|null|0x0dac0d611db5955...|         null|       1|          null|2021-02-22T06:56:29|0x900243adc0d2fd2...|                null|0x0dac0d611db5955...|    mint|                null|                null|https://storage.g...|ethereum|0xfbeef911dc58218...|https://ipfs.infu...|[, 0x3e140def0b11...|https://ipfs.infu...|2022-04-18T15:29:...|            1|    280175|\n",
      "|  488502|0x4aafbf3cfab417c...|    13065390|         null|0xfbeef911dc58218...|          null|       null|null|                null|         null|       1|          null|2021-08-21T00:15:42|0x20d176df8b70ae2...|0x7beed30332656ca...|0x0db5e7924d87d2e...|transfer|https://ipfs.infu...|https://storage.g...|https://storage.g...|ethereum|0xfbeef911dc58218...|https://ipfs.infu...|[https://ipfs.inf...|https://ipfs.infu...|2022-04-18T15:32:...|            7|    488500|\n",
      "|  125376|0x62300bb73d84bbf...|    11050219|         null|0xfbeef911dc58218...|          null|       null|null|                null|         null|       1|          null|2020-10-13T23:07:56|0x75fae2c1950dced...|0x2e0b873d26f6d90...|0x0dee629a5961f04...|transfer|                null|                null|https://storage.g...|ethereum|0xfbeef911dc58218...|https://ipfs.infu...|[,, [Beckermatic,...|https://ipfs.infu...|2022-04-18T15:15:...|            3|    125375|\n",
      "|13435063|0x7e60c98ba5bce7b...|    14960532|         null|0xabb3738f04dc2ec...|          null|       null|null|                null|         null|       1|          null|2022-06-14T07:19:48|0x9d42927a3e0c41d...|0xd722a299d14a19b...|0x1064aa646a7aedb...|transfer|                null|                null|https://storage.g...|ethereum|0xabb3738f04dc2ec...|ipfs://QmZJNmweL9...|[, 0xd722a299d14a...|ipfs://ipfs/QmNfn...|2022-06-13T09:30:...|           69|  13435000|\n",
      "|  575504|0x52ecacc78e012b1...|    12922752|         null|0xfbeef911dc58218...|          null|       null|null|0x109632e956ca6ba...|         null|       1|          null|2021-07-29T20:15:07|0x518dd105fc3ea7a...|                null|0x109632e956ca6ba...|    mint|https://ipfs.infu...|https://storage.g...|https://storage.g...|ethereum|0xfbeef911dc58218...|https://ipfs.infu...|[https://ipfs.inf...|https://ipfs.infu...|2022-04-18T15:32:...|           19|    575500|\n",
      "|  287026|0x7b91780497216c4...|    11956620|         null|0xfbeef911dc58218...|          null|       null|null|0x12598d0b88e028e...|         null|       1|          null|2021-03-02T04:21:20|0x50df81b30f2af8f...|                null|0x12598d0b88e028e...|    mint|                null|                null|https://storage.g...|ethereum|0xfbeef911dc58218...|https://ipfs.infu...|[, 0xbe2ef493d481...|https://ipfs.infu...|2022-04-18T15:29:...|            1|    287025|\n",
      "|10002001|0x0a7171259f3197c...|    15087443|         null|0xabb3738f04dc2ec...|          null|       null|null|                null|         null|       1|          null|2022-07-06T06:48:18|0xc485a694fb0a8f1...|0xaf9611f2fde7b0c...|0x12cc03a14b954ef...|transfer|ipfs://QmaRLuCddY...|https://storage.g...|https://storage.g...|ethereum|0xabb3738f04dc2ec...|ipfs://QmYUkgoDgb...|[ipfs://QmaRLuCdd...|ipfs://ipfs/QmSmo...|2022-07-06T06:53:...|           15|  10002000|\n",
      "+--------+--------------------+------------+-------------+--------------------+--------------+-----------+----+--------------------+-------------+--------+--------------+-------------------+--------------------+--------------------+--------------------+--------+--------------------+--------------------+--------------------+--------+--------------------+--------------------+--------------------+--------------------+--------------------+-------------+----------+\n",
      "only showing top 20 rows\n",
      "\n"
     ]
    }
   ],
   "source": [
    "transactionsWithMetaDf.show"
   ]
  },
  {
   "cell_type": "code",
   "execution_count": 12,
   "id": "d0f2e146",
   "metadata": {},
   "outputs": [
    {
     "data": {
      "application/vnd.jupyter.widget-view+json": {
       "model_id": "fb7b5dfece4e43cbb29e5645d88902bb",
       "version_major": 2,
       "version_minor": 0
      },
      "text/plain": [
       "VBox()"
      ]
     },
     "metadata": {},
     "output_type": "display_data"
    },
    {
     "data": {
      "application/vnd.jupyter.widget-view+json": {
       "model_id": "",
       "version_major": 2,
       "version_minor": 0
      },
      "text/plain": [
       "FloatProgress(value=0.0, bar_style='info', description='Progress:', layout=Layout(height='25px', width='50%'),…"
      ]
     },
     "metadata": {},
     "output_type": "display_data"
    },
    {
     "name": "stdout",
     "output_type": "stream",
     "text": [
      "res9: Long = 68877\n"
     ]
    }
   ],
   "source": [
    "transactionsDf.\n",
    "  filter(($\"type\" === \"transfer\" && $\"transfer_to\" =!= \"0x000000000000000000000000000000000000dead\") || ($\"type\" === \"mint\" && $\"contract_address\" === \"0xfbeef911dc5821886e1dda71586d90ed28174b7d\") || $\"type\" === \"sale\").\n",
    "  withColumn(\"transfer_to\", coalesce($\"transfer_to\", $\"buyer_address\", $\"owner_address\")).\n",
    "  withColumn(\"token_id\", coalesce($\"token_id\", $\"nft.token_id\")).join(metaDf, \"token_id\").count"
   ]
  },
  {
   "cell_type": "code",
   "execution_count": 18,
   "id": "8782f0ce",
   "metadata": {},
   "outputs": [
    {
     "data": {
      "application/vnd.jupyter.widget-view+json": {
       "model_id": "92e7371e42604b37ba2579a7a2fc1651",
       "version_major": 2,
       "version_minor": 0
      },
      "text/plain": [
       "VBox()"
      ]
     },
     "metadata": {},
     "output_type": "display_data"
    },
    {
     "data": {
      "application/vnd.jupyter.widget-view+json": {
       "model_id": "",
       "version_major": 2,
       "version_minor": 0
      },
      "text/plain": [
       "FloatProgress(value=0.0, bar_style='info', description='Progress:', layout=Layout(height='25px', width='50%'),…"
      ]
     },
     "metadata": {},
     "output_type": "display_data"
    },
    {
     "name": "stdout",
     "output_type": "stream",
     "text": [
      "+---------------------------------------------------------------+---------------------------------------------------------------------------------------------------------------------------+---------------------------------------------------------------------------------------------------------------------------+--------+------------------------------------------+---------------------------------------------------------------+-------------------------------------------------------------------------------------------------------------------------------------------------------------------------------------------------------------------------------------------------------------------------------------------------------------------------------------------------------------------------------------------------------------------------------------------------------------------------------------------------------------------------------------------------------------------------------------------------------------------------------------------------------------------------------------------------------------------------+----------------------------------------------------------+--------+--------------------------+\n",
      "|animation_url                                                  |cached_animation_url                                                                                                       |cached_file_url                                                                                                            |chain   |contract_address                          |file_url                                                       |metadata                                                                                                                                                                                                                                                                                                                                                                                                                                                                                                                                                                                                                                                                                                                 |metadata_url                                              |token_id|updated_date              |\n",
      "+---------------------------------------------------------------+---------------------------------------------------------------------------------------------------------------------------+---------------------------------------------------------------------------------------------------------------------------+--------+------------------------------------------+---------------------------------------------------------------+-------------------------------------------------------------------------------------------------------------------------------------------------------------------------------------------------------------------------------------------------------------------------------------------------------------------------------------------------------------------------------------------------------------------------------------------------------------------------------------------------------------------------------------------------------------------------------------------------------------------------------------------------------------------------------------------------------------------------+----------------------------------------------------------+--------+--------------------------+\n",
      "|ipfs://Qmbwxge7SPzERgUtZ85WWDutLmJBAvsF7xtMUq7P8n5i2q/asset.mp4|https://storage.googleapis.com/sentinel-nft/raw-assets/a1ee3abe90913f16e0b888531c2c7b08ac885190cbf4ab8bab3133db7667ea63.mp4|https://storage.googleapis.com/sentinel-nft/raw-assets/f6bf0b7ac69e241cdcb28a850d2a7a417b279ed0067ccaf15f95d82f08a00735.png|ethereum|0xabb3738f04dc2ec20f4ae4462c3d069d02ae045b|ipfs://QmZWoMGjhMM8A3mU9di4d1ScvKe411dpgqJkY1DHrVWxH1/asset.png|[ipfs://Qmbwxge7SPzERgUtZ85WWDutLmJBAvsF7xtMUq7P8n5i2q/asset.mp4, 0x834c771e04770b1f54fe13d258e5a640d78fba29, [BlockMuse, 70321536, video/mp4, 1882373, image/png,, Digital, 2022, common, [poetry], Abstract],, true, ??? ?? ????, ?? ????, ?????'? ? ????,\n",
      "??????'? ???? ?????? ? ?????\n",
      "????'? ?????? ?? ??? ??????? ?? ???????\n",
      "???? ????????? ?? ???? ?? ??? ???? ???\n",
      "\n",
      "No. 4 In the \"Anthology Of Concisions\" from Block\n",
      "\n",
      "Vive la..., https://knownorigin.io/0x834c771e04770b1f54fe13d258e5a640d78fba29,, ipfs://QmZWoMGjhMM8A3mU9di4d1ScvKe411dpgqJkY1DHrVWxH1/asset.png,,, ??????-?????,]|ipfs://ipfs/QmeYdA9mkSQdbfpdAMnyDUXCBNmAHqz7rz9J8XZXvMPbAW|9686019 |2022-05-26T10:53:12.704433|\n",
      "|ipfs://Qmbwxge7SPzERgUtZ85WWDutLmJBAvsF7xtMUq7P8n5i2q/asset.mp4|https://storage.googleapis.com/sentinel-nft/raw-assets/a1ee3abe90913f16e0b888531c2c7b08ac885190cbf4ab8bab3133db7667ea63.mp4|https://storage.googleapis.com/sentinel-nft/raw-assets/f6bf0b7ac69e241cdcb28a850d2a7a417b279ed0067ccaf15f95d82f08a00735.png|ethereum|0xabb3738f04dc2ec20f4ae4462c3d069d02ae045b|ipfs://QmZWoMGjhMM8A3mU9di4d1ScvKe411dpgqJkY1DHrVWxH1/asset.png|[ipfs://Qmbwxge7SPzERgUtZ85WWDutLmJBAvsF7xtMUq7P8n5i2q/asset.mp4, 0x834c771e04770b1f54fe13d258e5a640d78fba29, [BlockMuse, 70321536, video/mp4, 1882373, image/png,, Digital, 2022, common, [poetry], Abstract],, true, ??? ?? ????, ?? ????, ?????'? ? ????,\n",
      "??????'? ???? ?????? ? ?????\n",
      "????'? ?????? ?? ??? ??????? ?? ???????\n",
      "???? ????????? ?? ???? ?? ??? ???? ???\n",
      "\n",
      "No. 4 In the \"Anthology Of Concisions\" from Block\n",
      "\n",
      "Vive la..., https://knownorigin.io/0x834c771e04770b1f54fe13d258e5a640d78fba29,, ipfs://QmZWoMGjhMM8A3mU9di4d1ScvKe411dpgqJkY1DHrVWxH1/asset.png,,, ??????-?????,]|ipfs://ipfs/QmeYdA9mkSQdbfpdAMnyDUXCBNmAHqz7rz9J8XZXvMPbAW|9686019 |2022-05-26T10:53:12.704433|\n",
      "+---------------------------------------------------------------+---------------------------------------------------------------------------------------------------------------------------+---------------------------------------------------------------------------------------------------------------------------+--------+------------------------------------------+---------------------------------------------------------------+-------------------------------------------------------------------------------------------------------------------------------------------------------------------------------------------------------------------------------------------------------------------------------------------------------------------------------------------------------------------------------------------------------------------------------------------------------------------------------------------------------------------------------------------------------------------------------------------------------------------------------------------------------------------------------------------------------------------------+----------------------------------------------------------+--------+--------------------------+\n",
      "\n"
     ]
    }
   ],
   "source": [
    "//metaDfRaw.filter($\"token_id\" === 9686019).show(false)"
   ]
  },
  {
   "cell_type": "code",
   "execution_count": 10,
   "id": "69fb5736",
   "metadata": {},
   "outputs": [
    {
     "data": {
      "application/vnd.jupyter.widget-view+json": {
       "model_id": "adfc087e1dbc485abee44e6d0f67f61b",
       "version_major": 2,
       "version_minor": 0
      },
      "text/plain": [
       "VBox()"
      ]
     },
     "metadata": {},
     "output_type": "display_data"
    },
    {
     "data": {
      "application/vnd.jupyter.widget-view+json": {
       "model_id": "",
       "version_major": 2,
       "version_minor": 0
      },
      "text/plain": [
       "FloatProgress(value=0.0, bar_style='info', description='Progress:', layout=Layout(height='25px', width='50%'),…"
      ]
     },
     "metadata": {},
     "output_type": "display_data"
    }
   ],
   "source": [
    "transactionsWithMetaDf.\n",
    "  withColumn(\"month\", substring($\"transaction_date\", 0, 7)).\n",
    "  groupBy(\"month\").\n",
    "  agg(countDistinct(\"transaction_hash\").as(\"transactions\")).\n",
    "  orderBy($\"month\".desc).\n",
    "  createOrReplaceTempView(\"agg\")"
   ]
  },
  {
   "cell_type": "code",
   "execution_count": 11,
   "id": "d6167c0d",
   "metadata": {},
   "outputs": [
    {
     "data": {
      "application/vnd.jupyter.widget-view+json": {
       "model_id": "",
       "version_major": 2,
       "version_minor": 0
      },
      "text/plain": [
       "FloatProgress(value=0.0, bar_style='info', description='Progress:', layout=Layout(height='25px', width='50%'),…"
      ]
     },
     "metadata": {},
     "output_type": "display_data"
    },
    {
     "data": {
      "application/vnd.jupyter.widget-view+json": {
       "model_id": "3c25ebf451474fd099a35f86478f1ed9",
       "version_major": 2,
       "version_minor": 0
      },
      "text/plain": [
       "VBox(children=(HBox(children=(HTML(value='Type:'), Button(description='Table', layout=Layout(width='70px'), st…"
      ]
     },
     "metadata": {},
     "output_type": "display_data"
    },
    {
     "data": {
      "application/vnd.jupyter.widget-view+json": {
       "model_id": "cb3dfeb1e4a04e5b9b9153902743882b",
       "version_major": 2,
       "version_minor": 0
      },
      "text/plain": [
       "Output()"
      ]
     },
     "metadata": {},
     "output_type": "display_data"
    }
   ],
   "source": [
    "%%sql\n",
    "select * \n",
    "from agg\n",
    "where month < '2022-08'\n",
    "order by month desc"
   ]
  },
  {
   "cell_type": "code",
   "execution_count": null,
   "id": "089a4fb1",
   "metadata": {},
   "outputs": [],
   "source": [
    "// transactionsDf.\n",
    "//   filter(($\"type\" === \"transfer\" && $\"transfer_to\" =!= \"0x000000000000000000000000000000000000dead\") || ($\"type\" === \"mint\" && $\"contract_address\" =!= \"0xabb3738f04dc2ec20f4ae4462c3d069d02ae045b\") || $\"type\" === \"sale\").\n",
    "//   withColumn(\"transfer_to\", coalesce($\"transfer_to\", $\"buyer_address\", $\"owner_address\")).\n",
    "//   withColumn(\"token_id\", coalesce($\"token_id\", $\"nft.token_id\")).\n",
    "// join(metaDf, \"token_id\").groupBy(\"transfer_to\", \"transaction_hash\", \"edition_id\").agg(count(\"*\").as(\"cnt\")).\n",
    "// orderBy($\"cnt\".desc).show(false)"
   ]
  },
  {
   "cell_type": "code",
   "execution_count": null,
   "id": "b1f61f1f",
   "metadata": {},
   "outputs": [],
   "source": [
    "// transactionsWithMetaDf.groupBy(\"transfer_to\", \"transaction_hash\").\n",
    "//   agg(count(\"*\").as(\"cnt\")).\n",
    "//   orderBy($\"cnt\".desc).\n",
    "//   show(false)\n"
   ]
  },
  {
   "cell_type": "code",
   "execution_count": 9,
   "id": "1a7f0aaf",
   "metadata": {},
   "outputs": [
    {
     "data": {
      "application/vnd.jupyter.widget-view+json": {
       "model_id": "e33457e97f424d1ba50eebe508d1ff6b",
       "version_major": 2,
       "version_minor": 0
      },
      "text/plain": [
       "VBox()"
      ]
     },
     "metadata": {},
     "output_type": "display_data"
    },
    {
     "data": {
      "application/vnd.jupyter.widget-view+json": {
       "model_id": "",
       "version_major": 2,
       "version_minor": 0
      },
      "text/plain": [
       "FloatProgress(value=0.0, bar_style='info', description='Progress:', layout=Layout(height='25px', width='50%'),…"
      ]
     },
     "metadata": {},
     "output_type": "display_data"
    },
    {
     "name": "stdout",
     "output_type": "stream",
     "text": [
      "import org.apache.spark.sql.expressions.Window\n",
      "windowSpec: org.apache.spark.sql.expressions.WindowSpec = org.apache.spark.sql.expressions.WindowSpec@32b1293f\n"
     ]
    }
   ],
   "source": [
    "import org.apache.spark.sql.expressions.Window\n",
    "\n",
    "//row_number\n",
    "val windowSpec  = Window.partitionBy(\"artist\").orderBy($\"wallet_count\".desc)"
   ]
  },
  {
   "cell_type": "code",
   "execution_count": 10,
   "id": "f6361e35",
   "metadata": {},
   "outputs": [
    {
     "data": {
      "application/vnd.jupyter.widget-view+json": {
       "model_id": "3e9d50c5695a410fbc18d68d04412998",
       "version_major": 2,
       "version_minor": 0
      },
      "text/plain": [
       "VBox()"
      ]
     },
     "metadata": {},
     "output_type": "display_data"
    },
    {
     "data": {
      "application/vnd.jupyter.widget-view+json": {
       "model_id": "",
       "version_major": 2,
       "version_minor": 0
      },
      "text/plain": [
       "FloatProgress(value=0.0, bar_style='info', description='Progress:', layout=Layout(height='25px', width='50%'),…"
      ]
     },
     "metadata": {},
     "output_type": "display_data"
    },
    {
     "name": "stdout",
     "output_type": "stream",
     "text": [
      "editionRankDf: org.apache.spark.sql.Dataset[org.apache.spark.sql.Row] = [edition_id: string, sales_count: bigint ... 2 more fields]\n"
     ]
    }
   ],
   "source": [
    "val editionRankDf = transactionsWithMetaDf.\n",
    "  groupBy(\"edition_id\").\n",
    "  agg(count(\"*\").as(\"sales_count\"), countDistinct(\"transfer_to\").as(\"wallet_count\")).\n",
    "  withColumn(\"w_rank\", row_number.over(Window.orderBy($\"wallet_count\".desc))).\n",
    "  cache"
   ]
  },
  {
   "cell_type": "code",
   "execution_count": null,
   "id": "54389ec3",
   "metadata": {},
   "outputs": [],
   "source": [
    "//editionRankDf.filter($\"edition_id\" === 173225).show(false)"
   ]
  },
  {
   "cell_type": "code",
   "execution_count": 11,
   "id": "b0a34c47",
   "metadata": {},
   "outputs": [
    {
     "data": {
      "application/vnd.jupyter.widget-view+json": {
       "model_id": "3cf2b851f25f498e8a00866e3d6f620f",
       "version_major": 2,
       "version_minor": 0
      },
      "text/plain": [
       "VBox()"
      ]
     },
     "metadata": {},
     "output_type": "display_data"
    },
    {
     "data": {
      "application/vnd.jupyter.widget-view+json": {
       "model_id": "",
       "version_major": 2,
       "version_minor": 0
      },
      "text/plain": [
       "FloatProgress(value=0.0, bar_style='info', description='Progress:', layout=Layout(height='25px', width='50%'),…"
      ]
     },
     "metadata": {},
     "output_type": "display_data"
    },
    {
     "name": "stdout",
     "output_type": "stream",
     "text": [
      "popularEditionsByArtist: org.apache.spark.sql.Dataset[org.apache.spark.sql.Row] = [edition_id: string, artist: string ... 7 more fields]\n"
     ]
    }
   ],
   "source": [
    "val popularEditionsByArtist = transactionsWithMetaDf.\n",
    "  dropDuplicates(\"edition_id\").\n",
    "  select(\"edition_id\", \"metadata.attributes.artist\", \"metadata.name\", \"token_id\", \"cached_file_url\").\n",
    "  join(editionRankDf, \"edition_id\").\n",
    "  withColumn(\"rank\", row_number.over(windowSpec)).\n",
    "  filter($\"rank\" < 10).\n",
    "  cache"
   ]
  },
  {
   "cell_type": "code",
   "execution_count": null,
   "id": "cb195b26",
   "metadata": {},
   "outputs": [],
   "source": [
    "// transactionsWithMetaDf.dropDuplicates(\"edition_id\").\n",
    "//   filter($\"edition_id\" === \"173225\").show"
   ]
  },
  {
   "cell_type": "code",
   "execution_count": 17,
   "id": "b7916db8",
   "metadata": {},
   "outputs": [
    {
     "data": {
      "application/vnd.jupyter.widget-view+json": {
       "model_id": "0757672e353240658710349d6bccce94",
       "version_major": 2,
       "version_minor": 0
      },
      "text/plain": [
       "VBox()"
      ]
     },
     "metadata": {},
     "output_type": "display_data"
    },
    {
     "data": {
      "application/vnd.jupyter.widget-view+json": {
       "model_id": "",
       "version_major": 2,
       "version_minor": 0
      },
      "text/plain": [
       "FloatProgress(value=0.0, bar_style='info', description='Progress:', layout=Layout(height='25px', width='50%'),…"
      ]
     },
     "metadata": {},
     "output_type": "display_data"
    }
   ],
   "source": [
    "popularEditionsByArtist.\n",
    "  coalesce(1).\n",
    "  write.json(\"s3://unwind.dev.data/nft/output/ko/new/popular_edition_by_artist/\")\n"
   ]
  },
  {
   "cell_type": "code",
   "execution_count": 18,
   "id": "b8ef93e7",
   "metadata": {},
   "outputs": [
    {
     "data": {
      "application/vnd.jupyter.widget-view+json": {
       "model_id": "2cb1aff7108746999da1623aa042547a",
       "version_major": 2,
       "version_minor": 0
      },
      "text/plain": [
       "VBox()"
      ]
     },
     "metadata": {},
     "output_type": "display_data"
    },
    {
     "data": {
      "application/vnd.jupyter.widget-view+json": {
       "model_id": "",
       "version_major": 2,
       "version_minor": 0
      },
      "text/plain": [
       "FloatProgress(value=0.0, bar_style='info', description='Progress:', layout=Layout(height='25px', width='50%'),…"
      ]
     },
     "metadata": {},
     "output_type": "display_data"
    }
   ],
   "source": [
    "transactionsWithMetaDf.\n",
    "  groupBy(\"metadata.attributes.artist\").\n",
    "  agg(count(\"*\").as(\"sales_count\"), countDistinct(\"transfer_to\").as(\"wallet_count\")).\n",
    "  orderBy($\"wallet_count\".desc).\n",
    "  coalesce(1).\n",
    "  write.json(\"s3://unwind.dev.data/nft/output/ko/new/popular_artist/\")"
   ]
  },
  {
   "cell_type": "code",
   "execution_count": null,
   "id": "a3262d31",
   "metadata": {},
   "outputs": [],
   "source": [
    "//transactionsWithMetaDf.filter($\"metadata.attributes.artist\".isNull).count"
   ]
  },
  {
   "cell_type": "code",
   "execution_count": 16,
   "id": "b7f79638",
   "metadata": {},
   "outputs": [
    {
     "data": {
      "application/vnd.jupyter.widget-view+json": {
       "model_id": "564c7de32e8e4948a55a72e58fec4917",
       "version_major": 2,
       "version_minor": 0
      },
      "text/plain": [
       "VBox()"
      ]
     },
     "metadata": {},
     "output_type": "display_data"
    },
    {
     "data": {
      "application/vnd.jupyter.widget-view+json": {
       "model_id": "",
       "version_major": 2,
       "version_minor": 0
      },
      "text/plain": [
       "FloatProgress(value=0.0, bar_style='info', description='Progress:', layout=Layout(height='25px', width='50%'),…"
      ]
     },
     "metadata": {},
     "output_type": "display_data"
    },
    {
     "name": "stdout",
     "output_type": "stream",
     "text": [
      "transactionsWithEditionRankDf: org.apache.spark.sql.Dataset[org.apache.spark.sql.Row] = [edition_id: string, token_id: string ... 32 more fields]\n"
     ]
    }
   ],
   "source": [
    "val transactionsWithEditionRankDf = transactionsWithMetaDf.\n",
    "  withColumn(\"contract\", metaDf(\"contract_address\")).\n",
    "  withColumn(\"artist_name\", metaDf(\"metadata.attributes.artist\")).\n",
    "  join(editionRankDf, \"edition_id\").\n",
    "  withColumn(\"transaction_edition\", concat($\"transaction_hash\", $\"edition_id\")).  \n",
    "  cache"
   ]
  },
  {
   "cell_type": "code",
   "execution_count": 13,
   "id": "8c156215",
   "metadata": {},
   "outputs": [
    {
     "data": {
      "application/vnd.jupyter.widget-view+json": {
       "model_id": "5eaea2b3ee2b49529d8088b479669b2e",
       "version_major": 2,
       "version_minor": 0
      },
      "text/plain": [
       "VBox()"
      ]
     },
     "metadata": {},
     "output_type": "display_data"
    },
    {
     "data": {
      "application/vnd.jupyter.widget-view+json": {
       "model_id": "",
       "version_major": 2,
       "version_minor": 0
      },
      "text/plain": [
       "FloatProgress(value=0.0, bar_style='info', description='Progress:', layout=Layout(height='25px', width='50%'),…"
      ]
     },
     "metadata": {},
     "output_type": "display_data"
    },
    {
     "name": "stdout",
     "output_type": "stream",
     "text": [
      "res9: Long = 61758\n"
     ]
    }
   ],
   "source": [
    "transactionsWithEditionRankDf.select(\"transfer_to\", \"transaction_edition\").distinct.count"
   ]
  },
  {
   "cell_type": "code",
   "execution_count": 17,
   "id": "6f7fc3be",
   "metadata": {},
   "outputs": [
    {
     "data": {
      "application/vnd.jupyter.widget-view+json": {
       "model_id": "fec18dc40f3b49e59e456f7e554ee88d",
       "version_major": 2,
       "version_minor": 0
      },
      "text/plain": [
       "VBox()"
      ]
     },
     "metadata": {},
     "output_type": "display_data"
    },
    {
     "data": {
      "application/vnd.jupyter.widget-view+json": {
       "model_id": "",
       "version_major": 2,
       "version_minor": 0
      },
      "text/plain": [
       "FloatProgress(value=0.0, bar_style='info', description='Progress:', layout=Layout(height='25px', width='50%'),…"
      ]
     },
     "metadata": {},
     "output_type": "display_data"
    },
    {
     "name": "stdout",
     "output_type": "stream",
     "text": [
      "+------------------------------------------+-----------------------------------+\n",
      "|contract                                  |count(DISTINCT transaction_edition)|\n",
      "+------------------------------------------+-----------------------------------+\n",
      "|0xfbeef911dc5821886e1dda71586d90ed28174b7d|40302                              |\n",
      "|0xabb3738f04dc2ec20f4ae4462c3d069d02ae045b|21400                              |\n",
      "+------------------------------------------+-----------------------------------+\n",
      "\n"
     ]
    }
   ],
   "source": [
    "transactionsWithEditionRankDf.\n",
    "  groupBy(\"contract\").\n",
    "  agg(countDistinct(\"transaction_edition\")).\n",
    "  show(false)"
   ]
  },
  {
   "cell_type": "code",
   "execution_count": 19,
   "id": "bf6db4d9",
   "metadata": {},
   "outputs": [
    {
     "data": {
      "application/vnd.jupyter.widget-view+json": {
       "model_id": "63a6e982901a48c8a017dbf4360259a3",
       "version_major": 2,
       "version_minor": 0
      },
      "text/plain": [
       "VBox()"
      ]
     },
     "metadata": {},
     "output_type": "display_data"
    },
    {
     "data": {
      "application/vnd.jupyter.widget-view+json": {
       "model_id": "",
       "version_major": 2,
       "version_minor": 0
      },
      "text/plain": [
       "FloatProgress(value=0.0, bar_style='info', description='Progress:', layout=Layout(height='25px', width='50%'),…"
      ]
     },
     "metadata": {},
     "output_type": "display_data"
    }
   ],
   "source": [
    "transactionsWithEditionRankDf.\n",
    "  select(\"transaction_edition\", \"transfer_to\", \"contract\", \"token_id\", \"edition_id\", \"metadata.name\", \"artist_name\", \"transaction_hash\", \"transaction_date\", \"metadata.artist\", \"cached_file_url\", \"w_rank\", \"wallet_count\").\n",
    "  withColumnRenamed(\"transfer_to\", \"walletId\").\n",
    "  withColumnRenamed(\"transaction_date\", \"timestamp\").\n",
    "  coalesce(1).\n",
    "  write.json(\"s3://unwind.dev.data/nft/output/ko/new/wallet_transfer/\")\n"
   ]
  },
  {
   "cell_type": "code",
   "execution_count": null,
   "id": "268cf7d5",
   "metadata": {},
   "outputs": [],
   "source": [
    "// val artistTupleDf = transactionsWithMetaDf.\n",
    "//   withColumn(\"artist1\", $\"metadata.attributes.artist\").\n",
    "//   withColumn(\"thash1\", $\"transaction_hash\").\n",
    "//   withColumn(\"timestamp1\", $\"transaction_date\").\n",
    "//   select(\"artist1\", \"thash1\", \"transfer_to\", \"timestamp1\").\n",
    "//   join(transactionsWithMetaDf.\n",
    "//     withColumn(\"artist2\", $\"metadata.attributes.artist\").\n",
    "//     withColumn(\"thash2\", $\"transaction_hash\").\n",
    "//     withColumn(\"timestamp2\", $\"transaction_date\").   \n",
    "//     select(\"artist2\", \"thash2\", \"transfer_to\", \"timestamp2\"), \"transfer_to\").\n",
    "//   filter($\"thash1\" =!= $\"thash2\" && $\"timestamp1\" < $\"timestamp2\").\n",
    "//   cache\n"
   ]
  },
  {
   "cell_type": "code",
   "execution_count": null,
   "id": "7a037883",
   "metadata": {},
   "outputs": [],
   "source": [
    "// artistTupleDf.\n",
    "//   groupBy(\"artist1\", \"artist2\").\n",
    "//   agg(count(\"*\").as(\"sales_count\"), countDistinct(\"transfer_to\").as(\"wallet_count\")).\n",
    "//   withColumn(\"artist_tuple\", concat($\"artist1\", lit(\" -> \"), $\"artist2\")).\n",
    "//   coalesce(1).\n",
    "//   write.json(\"s3://unwind.dev.data/nft/ko/0xABB3738f04Dc2Ec20f4AE4462c3d069d02AE045B/artist_artist/\")"
   ]
  },
  {
   "cell_type": "code",
   "execution_count": null,
   "id": "06d1eb47",
   "metadata": {},
   "outputs": [],
   "source": [
    "// artistTupleDf.\n",
    "//   groupBy(\"artist1\", \"artist2\").\n",
    "//   agg(count(\"*\").as(\"sales_count\"), countDistinct(\"transfer_to\").as(\"wallet_count\")).\n",
    "//   withColumn(\"artist_tuple\", concat($\"artist1\", lit(\" -> \"), $\"artist2\")).\n",
    "//   cache.\n",
    "//   createOrReplaceTempView(\"agg\")"
   ]
  },
  {
   "cell_type": "code",
   "execution_count": null,
   "id": "c84204ff",
   "metadata": {},
   "outputs": [],
   "source": [
    "// %%sql\n",
    "// select * \n",
    "// from agg\n",
    "// order by wallet_count desc\n",
    "// limit 10\n"
   ]
  },
  {
   "cell_type": "code",
   "execution_count": null,
   "id": "fbc47632",
   "metadata": {},
   "outputs": [],
   "source": [
    "// transactionsWithMetaDf.\n",
    "//   groupBy(\"edition_id\").\n",
    "//   agg(count(\"*\").as(\"sales_count\"), countDistinct(\"transfer_to\").as(\"wallet_count\")).\n",
    "//   orderBy($\"wallet_count\".desc).\n",
    "//   coalesce(1).\n",
    "//   write.json(\"s3://unwind.dev.data/nft/ko/0xABB3738f04Dc2Ec20f4AE4462c3d069d02AE045B/top_editions/\")"
   ]
  },
  {
   "cell_type": "code",
   "execution_count": null,
   "id": "8ca6c1f3",
   "metadata": {},
   "outputs": [],
   "source": [
    "// val editionTupleDf = transactionsWithMetaDf.\n",
    "//   withColumn(\"edition1\", $\"edition_id\").\n",
    "//   withColumn(\"thash1\", $\"transaction_hash\").\n",
    "//   withColumn(\"timestamp1\", $\"transaction_date\").\n",
    "//   select(\"edition1\", \"thash1\", \"transfer_to\", \"timestamp1\").\n",
    "//   join(transactionsWithMetaDf.\n",
    "//     withColumn(\"edition2\", $\"edition_id\").\n",
    "//     withColumn(\"thash2\", $\"transaction_hash\").\n",
    "//     withColumn(\"timestamp2\", $\"transaction_date\").   \n",
    "//     select(\"edition2\", \"thash2\", \"transfer_to\", \"timestamp2\"), \"transfer_to\").\n",
    "//   filter($\"thash1\" =!= $\"thash2\" && $\"timestamp1\" < $\"timestamp2\").\n",
    "//   cache\n"
   ]
  },
  {
   "cell_type": "code",
   "execution_count": null,
   "id": "ed124cd8",
   "metadata": {},
   "outputs": [],
   "source": [
    "//editionTupleDf.count"
   ]
  },
  {
   "cell_type": "code",
   "execution_count": null,
   "id": "ce929ca0",
   "metadata": {},
   "outputs": [],
   "source": [
    "// val editionAggDf = editionTupleDf.\n",
    "//   groupBy(\"edition1\", \"edition2\").\n",
    "//   agg(count(\"*\").as(\"sales_count\"), countDistinct(\"transfer_to\").as(\"wallet_count\")).\n",
    "//   withColumn(\"edition_tuple\", concat($\"edition1\", lit(\" -> \"), $\"edition2\")).\n",
    "//   cache\n",
    "  //coalesce(1).\n",
    "  //write.json(\"s3://unwind.dev.data/nft/ko/0xABB3738f04Dc2Ec20f4AE4462c3d069d02AE045B/artist_artist/\")"
   ]
  },
  {
   "cell_type": "code",
   "execution_count": null,
   "id": "0e777a3c",
   "metadata": {},
   "outputs": [],
   "source": [
    "// editionAggDf.\n",
    "//   coalesce(1).\n",
    "//   write.json(\"s3://unwind.dev.data/nft/ko/0xABB3738f04Dc2Ec20f4AE4462c3d069d02AE045B/edition_edition/\")"
   ]
  },
  {
   "cell_type": "code",
   "execution_count": null,
   "id": "7a3253f8",
   "metadata": {},
   "outputs": [],
   "source": [
    "// spark.read.json(\"s3://unwind.dev.data/nft/ko/0xABB3738f04Dc2Ec20f4AE4462c3d069d02AE045B/edition_edition/\").\n",
    "//   orderBy($\"wallet_count\".desc).show"
   ]
  },
  {
   "cell_type": "code",
   "execution_count": null,
   "id": "0b7f58fd",
   "metadata": {},
   "outputs": [],
   "source": [
    "//editionAggDf.createOrReplaceTempView(\"agg\")"
   ]
  },
  {
   "cell_type": "code",
   "execution_count": null,
   "id": "446f05ab",
   "metadata": {},
   "outputs": [],
   "source": [
    "// %%sql\n",
    "// select * \n",
    "// from agg\n",
    "// order by wallet_count desc\n",
    "// limit 10"
   ]
  },
  {
   "cell_type": "code",
   "execution_count": null,
   "id": "2a049c69",
   "metadata": {},
   "outputs": [],
   "source": [
    "// transactionsWithMetaDf.\n",
    "//   groupBy(\"token_id\").\n",
    "//   agg(count(\"*\").as(\"t\")).\n",
    "//   withColumn(\"transactions\", lit(1) * ceil($\"t\"/1)).\n",
    "//   groupBy(\"transactions\").\n",
    "//   agg(count(\"*\").as(\"tokens\")).\n",
    "//   createOrReplaceTempView(\"agg\")\n",
    "  "
   ]
  },
  {
   "cell_type": "code",
   "execution_count": null,
   "id": "1e1894f3",
   "metadata": {},
   "outputs": [],
   "source": [
    "// %%sql\n",
    "// select * from agg\n",
    "// order by transactions desc"
   ]
  },
  {
   "cell_type": "code",
   "execution_count": null,
   "id": "d71f757b",
   "metadata": {},
   "outputs": [],
   "source": [
    "// transactionsWithMetaDf.\n",
    "//   groupBy(\"token_id\").\n",
    "//   agg(count(\"*\").as(\"t\")).\n",
    "//   orderBy($\"t\".desc).\n",
    "//   show"
   ]
  },
  {
   "cell_type": "code",
   "execution_count": 20,
   "id": "acd5fc08",
   "metadata": {},
   "outputs": [
    {
     "data": {
      "application/vnd.jupyter.widget-view+json": {
       "model_id": "d40c780c3c684156bf2338603301658d",
       "version_major": 2,
       "version_minor": 0
      },
      "text/plain": [
       "VBox()"
      ]
     },
     "metadata": {},
     "output_type": "display_data"
    },
    {
     "data": {
      "application/vnd.jupyter.widget-view+json": {
       "model_id": "",
       "version_major": 2,
       "version_minor": 0
      },
      "text/plain": [
       "FloatProgress(value=0.0, bar_style='info', description='Progress:', layout=Layout(height='25px', width='50%'),…"
      ]
     },
     "metadata": {},
     "output_type": "display_data"
    },
    {
     "name": "stdout",
     "output_type": "stream",
     "text": [
      "repeatByersDf: org.apache.spark.sql.Dataset[org.apache.spark.sql.Row] = [transfer_to: string, t: bigint]\n"
     ]
    }
   ],
   "source": [
    "val repeatByersDf = transactionsWithMetaDf.\n",
    "  groupBy(\"transfer_to\").\n",
    "  agg(countDistinct(\"transaction_hash\").as(\"t\")).\n",
    "  cache"
   ]
  },
  {
   "cell_type": "code",
   "execution_count": null,
   "id": "8dd26b3e",
   "metadata": {},
   "outputs": [],
   "source": [
    "// repeatByersDf.\n",
    "//   withColumn(\"tn\", when($\"t\" >= 100, lit(100)).otherwise($\"t\")).\n",
    "//   groupBy(\"tn\").\n",
    "//   agg(count(\"*\").as(\"wallets\")).\n",
    "//   withColumn(\"%_of_total_wallets\", lit(100.0) * $\"wallets\" / 17460).\n",
    "//   withColumn(\"transactions\", when($\"tn\" >= 100, lit(\"100+\")).otherwise($\"tn\".cast(\"string\"))).\n",
    "//   createOrReplaceTempView(\"agg\")"
   ]
  },
  {
   "cell_type": "code",
   "execution_count": 22,
   "id": "de41fab8",
   "metadata": {},
   "outputs": [
    {
     "data": {
      "application/vnd.jupyter.widget-view+json": {
       "model_id": "dee692d750a342238b95b6267fb29039",
       "version_major": 2,
       "version_minor": 0
      },
      "text/plain": [
       "VBox()"
      ]
     },
     "metadata": {},
     "output_type": "display_data"
    },
    {
     "data": {
      "application/vnd.jupyter.widget-view+json": {
       "model_id": "",
       "version_major": 2,
       "version_minor": 0
      },
      "text/plain": [
       "FloatProgress(value=0.0, bar_style='info', description='Progress:', layout=Layout(height='25px', width='50%'),…"
      ]
     },
     "metadata": {},
     "output_type": "display_data"
    }
   ],
   "source": [
    "repeatByersDf.\n",
    "  withColumn(\"tn\", when($\"t\" >= 100, lit(100)).otherwise($\"t\")).\n",
    "  groupBy(\"tn\").\n",
    "  agg(count(\"*\").as(\"wallets\")).\n",
    "  orderBy($\"tn\").\n",
    "  coalesce(1).\n",
    "  write.csv(\"s3://unwind.dev.data/nft/output/ko/new/repeat\")"
   ]
  },
  {
   "cell_type": "code",
   "execution_count": 23,
   "id": "0d4799d7",
   "metadata": {},
   "outputs": [
    {
     "data": {
      "application/vnd.jupyter.widget-view+json": {
       "model_id": "f54caeb5c06948e0a64b8b65820abc98",
       "version_major": 2,
       "version_minor": 0
      },
      "text/plain": [
       "VBox()"
      ]
     },
     "metadata": {},
     "output_type": "display_data"
    },
    {
     "data": {
      "application/vnd.jupyter.widget-view+json": {
       "model_id": "",
       "version_major": 2,
       "version_minor": 0
      },
      "text/plain": [
       "FloatProgress(value=0.0, bar_style='info', description='Progress:', layout=Layout(height='25px', width='50%'),…"
      ]
     },
     "metadata": {},
     "output_type": "display_data"
    },
    {
     "name": "stdout",
     "output_type": "stream",
     "text": [
      "res19: Long = 15960\n"
     ]
    }
   ],
   "source": [
    "repeatByersDf.\n",
    "  count"
   ]
  },
  {
   "cell_type": "code",
   "execution_count": null,
   "id": "ddcc6c17",
   "metadata": {},
   "outputs": [],
   "source": [
    "repeatByersDf\n",
    "  filter($\"t\" === 1).\n",
    "  count"
   ]
  },
  {
   "cell_type": "code",
   "execution_count": 24,
   "id": "dc7afadf",
   "metadata": {},
   "outputs": [
    {
     "data": {
      "application/vnd.jupyter.widget-view+json": {
       "model_id": "df7d6f56ecd7470f860c44fbdc673946",
       "version_major": 2,
       "version_minor": 0
      },
      "text/plain": [
       "VBox()"
      ]
     },
     "metadata": {},
     "output_type": "display_data"
    },
    {
     "data": {
      "application/vnd.jupyter.widget-view+json": {
       "model_id": "",
       "version_major": 2,
       "version_minor": 0
      },
      "text/plain": [
       "FloatProgress(value=0.0, bar_style='info', description='Progress:', layout=Layout(height='25px', width='50%'),…"
      ]
     },
     "metadata": {},
     "output_type": "display_data"
    },
    {
     "name": "stdout",
     "output_type": "stream",
     "text": [
      "+------+\n",
      "|max(t)|\n",
      "+------+\n",
      "|   762|\n",
      "+------+\n",
      "\n"
     ]
    }
   ],
   "source": [
    "repeatByersDf.select(max($\"t\")).show"
   ]
  },
  {
   "cell_type": "code",
   "execution_count": null,
   "id": "f6118721",
   "metadata": {},
   "outputs": [],
   "source": [
    "// %%sql\n",
    "// select * from agg\n",
    "// order by tn"
   ]
  },
  {
   "cell_type": "code",
   "execution_count": 25,
   "id": "f225196e",
   "metadata": {},
   "outputs": [
    {
     "data": {
      "application/vnd.jupyter.widget-view+json": {
       "model_id": "8bee77fbbcd248d8bf3dc2fb44c6f202",
       "version_major": 2,
       "version_minor": 0
      },
      "text/plain": [
       "VBox()"
      ]
     },
     "metadata": {},
     "output_type": "display_data"
    },
    {
     "data": {
      "application/vnd.jupyter.widget-view+json": {
       "model_id": "",
       "version_major": 2,
       "version_minor": 0
      },
      "text/plain": [
       "FloatProgress(value=0.0, bar_style='info', description='Progress:', layout=Layout(height='25px', width='50%'),…"
      ]
     },
     "metadata": {},
     "output_type": "display_data"
    },
    {
     "name": "stdout",
     "output_type": "stream",
     "text": [
      "+----------------+----+\n",
      "|artist          |t   |\n",
      "+----------------+----+\n",
      "|Alex Shell      |1858|\n",
      "|XCOPY           |1773|\n",
      "|Hulki Okan Tabak|1288|\n",
      "|Kozachok        |1270|\n",
      "|Mad Monk        |1163|\n",
      "|Stina Jones     |1058|\n",
      "|sabet           |895 |\n",
      "|Gary Cartlidge  |833 |\n",
      "|foodmasku       |772 |\n",
      "|Benji Connell   |690 |\n",
      "| Difelice5000   |680 |\n",
      "|obxium          |572 |\n",
      "|Brad Damico     |534 |\n",
      "|Moxarra Gonzalez|534 |\n",
      "|ROBNESSV2       |532 |\n",
      "|Yura Miron      |517 |\n",
      "|ilan katin      |504 |\n",
      "|Mattia Cuttini  |493 |\n",
      "|Lucho Poletti   |476 |\n",
      "|Voke            |471 |\n",
      "+----------------+----+\n",
      "only showing top 20 rows\n",
      "\n"
     ]
    }
   ],
   "source": [
    "transactionsWithMetaDf.\n",
    "  groupBy(\"metadata.attributes.artist\").\n",
    "  agg(count(\"*\").as(\"t\")).\n",
    "  orderBy($\"t\".desc).\n",
    "  show(false)"
   ]
  },
  {
   "cell_type": "code",
   "execution_count": null,
   "id": "d45450cb",
   "metadata": {},
   "outputs": [],
   "source": []
  },
  {
   "cell_type": "code",
   "execution_count": null,
   "id": "024b5c90",
   "metadata": {},
   "outputs": [],
   "source": [
    "//metaDf.filter($\"metadata.artist\" === \"0x8e04f3f772b4250c060e1b87fd28e420999699e7\").select(\"metadata.attributes.artist\").show(false)"
   ]
  },
  {
   "cell_type": "code",
   "execution_count": null,
   "id": "d3fac08b",
   "metadata": {},
   "outputs": [],
   "source": [
    "// transactionsWithMetaDf.\n",
    "//   groupBy(\"transfer_to\", \"metadata.artist\").\n",
    "//   agg(count(\"*\").as(\"t\")).\n",
    "//   filter($\"t\" > 1).\n",
    "//   withColumn(\"transactions\", lit(5) * ceil($\"t\"/5)).\n",
    "//   groupBy(\"transactions\").\n",
    "//   agg(count(\"*\").as(\"artist_buyers\")).\n",
    "//   createOrReplaceTempView(\"agg\")"
   ]
  },
  {
   "cell_type": "code",
   "execution_count": null,
   "id": "619d1c3a",
   "metadata": {},
   "outputs": [],
   "source": [
    "// transactionsWithMetaDf.\n",
    "//   groupBy(\"transfer_to\", \"metadata.artist\").\n",
    "//   agg(count(\"*\").as(\"t\")).\n",
    "//   filter($\"t\" > 1).\n",
    "//   select(countDistinct(\"transfer_to\")).\n",
    "//   show\n"
   ]
  },
  {
   "cell_type": "code",
   "execution_count": null,
   "id": "57356950",
   "metadata": {},
   "outputs": [],
   "source": [
    "// %%sql\n",
    "// select * from agg\n",
    "// order by transactions desc"
   ]
  },
  {
   "cell_type": "code",
   "execution_count": null,
   "id": "d17d14e1",
   "metadata": {},
   "outputs": [],
   "source": [
    "// transactionsWithMetaDf.\n",
    "//   groupBy(\"transfer_to\").\n",
    "//   agg(count(\"*\").as(\"t\"), countDistinct(\"metadata.artist\").as(\"artists\")).\n",
    "//   filter($\"t\" > 1).\n",
    "//   withColumn(\"transactions\", lit(5) * ceil($\"t\"/5)).\n",
    "//   groupBy(\"transactions\").\n",
    "//   agg(expr(\"percentile(artists, array(0.5))\").alias(\"artist_med\")).\n",
    "//   select($\"transactions\", explode($\"artist_med\").as(\"artist_med\")).\n",
    "//   createOrReplaceTempView(\"agg\")"
   ]
  },
  {
   "cell_type": "code",
   "execution_count": null,
   "id": "8c144a65",
   "metadata": {},
   "outputs": [],
   "source": [
    "// %%sql\n",
    "// select * from agg\n",
    "// order by transactions desc"
   ]
  },
  {
   "cell_type": "code",
   "execution_count": null,
   "id": "4938feff",
   "metadata": {},
   "outputs": [],
   "source": [
    "// transactionsWithMetaDf.\n",
    "//   groupBy(\"transfer_to\").\n",
    "//   agg(count(\"*\").as(\"t\"), countDistinct(\"metadata.artist\").as(\"artists\")).\n",
    "//   filter($\"t\" > 1).\n",
    "//   withColumn(\"transactions\", lit(5) * ceil($\"t\"/5))."
   ]
  },
  {
   "cell_type": "code",
   "execution_count": null,
   "id": "de402e32",
   "metadata": {},
   "outputs": [],
   "source": [
    "// transactionsWithMetaDf.\n",
    "//   groupBy(\"metadata.artist\").\n",
    "//   agg(count(\"*\").as(\"t\")).\n",
    "//   filter($\"t\" > 1).\n",
    "//   withColumn(\"transactions\", lit(5) * ceil($\"t\"/5)).\n",
    "//   groupBy(\"transactions\").\n",
    "//   agg(count(\"*\").as(\"artists\")).\n",
    "//   createOrReplaceTempView(\"agg\")"
   ]
  },
  {
   "cell_type": "code",
   "execution_count": null,
   "id": "99d293b0",
   "metadata": {},
   "outputs": [],
   "source": [
    "// %%sql\n",
    "// select * from agg\n",
    "// order by transactions desc"
   ]
  },
  {
   "cell_type": "code",
   "execution_count": null,
   "id": "822adb8d",
   "metadata": {},
   "outputs": [],
   "source": [
    "// %%sql\n",
    "// select * from agg\n",
    "// order by transactions desc"
   ]
  },
  {
   "cell_type": "code",
   "execution_count": 26,
   "id": "48fd7a18",
   "metadata": {},
   "outputs": [
    {
     "data": {
      "application/vnd.jupyter.widget-view+json": {
       "model_id": "65e9c685009149a9b14cc414c58fbf36",
       "version_major": 2,
       "version_minor": 0
      },
      "text/plain": [
       "VBox()"
      ]
     },
     "metadata": {},
     "output_type": "display_data"
    },
    {
     "data": {
      "application/vnd.jupyter.widget-view+json": {
       "model_id": "",
       "version_major": 2,
       "version_minor": 0
      },
      "text/plain": [
       "FloatProgress(value=0.0, bar_style='info', description='Progress:', layout=Layout(height='25px', width='50%'),…"
      ]
     },
     "metadata": {},
     "output_type": "display_data"
    },
    {
     "name": "stdout",
     "output_type": "stream",
     "text": [
      "res22: Long = 213\n"
     ]
    }
   ],
   "source": [
    "// transactionsWithMetaDf.\n",
    "//   filter($\"metadata.attributes.artist\".isNull).\n",
    "//   count"
   ]
  },
  {
   "cell_type": "code",
   "execution_count": null,
   "id": "2e1ca700",
   "metadata": {},
   "outputs": [],
   "source": [
    "// transactionsWithMetaDf.\n",
    "//   groupBy(\"edition_id\").\n",
    "//   agg(count(\"*\").as(\"t\")).\n",
    "//   filter($\"t\" > 1).\n",
    "//   withColumn(\"transactions\", lit(5) * ceil($\"t\"/5)).\n",
    "//   groupBy(\"transactions\").\n",
    "//   agg(count(\"*\").as(\"editions\")).\n",
    "//   createOrReplaceTempView(\"agg\")\n",
    "// //   filter($\"t\" > 1).\n",
    "// //   withColumn(\"transactions\", lit(5) * ceil($\"t\"/5)).\n",
    "// //   groupBy(\"transactions\").\n",
    "// //   agg(count(\"*\").as(\"artists\")).\n",
    "// //   createOrReplaceTempView(\"agg\")"
   ]
  },
  {
   "cell_type": "code",
   "execution_count": null,
   "id": "7654b3cb",
   "metadata": {},
   "outputs": [],
   "source": [
    "// %%sql\n",
    "// select * from agg\n",
    "// order by transactions desc"
   ]
  },
  {
   "cell_type": "code",
   "execution_count": null,
   "id": "2477eeb1",
   "metadata": {},
   "outputs": [],
   "source": [
    "// transactionsWithMetaDf.\n",
    "//   filter($\"transfer_to\" === \"0x239014c706e253e84a1529159b98a6e7f50d601c\" && $\"token_id\" === \"245884\").\n",
    "//   select(\"metadata.name\", \"metadata.artist\", \"metadata.attributes.artist\").\n",
    "//   show(false)\n",
    "// //   groupBy(\"edition_id\", \"transfer_to\", \"token_id\").\n",
    "// //   agg(count(\"*\").as(\"t\")).\n",
    "// //   filter($\"t\" > 1).\n",
    "// //   orderBy($\"t\".desc).\n",
    "// //   select(\"transfer_to\", \"edition_id\", \"token_id\", \"t\").show(false)"
   ]
  },
  {
   "cell_type": "code",
   "execution_count": null,
   "id": "de61f572",
   "metadata": {},
   "outputs": [],
   "source": [
    "// metaDf.\n",
    "//   select(explode($\"metadata.attributes.tags\").as(\"tag\")).\n",
    "//   groupBy(\"tag\").\n",
    "//   agg(count(\"*\").as(\"t\")).\n",
    "//   orderBy($\"t\".desc).\n",
    "//   show(100) "
   ]
  },
  {
   "cell_type": "code",
   "execution_count": null,
   "id": "f0eefc9c",
   "metadata": {},
   "outputs": [],
   "source": []
  },
  {
   "cell_type": "code",
   "execution_count": null,
   "id": "6f23394a",
   "metadata": {},
   "outputs": [],
   "source": []
  },
  {
   "cell_type": "code",
   "execution_count": null,
   "id": "9977dec8",
   "metadata": {},
   "outputs": [],
   "source": [
    "//import pyspark.pandas\n",
    "\n",
    "  //withColumn(\"data\", struct($\"contract\", $\"token_id\", $\"transaction_hash\", $\"type\", $\"artist\")).\n",
    "  //to_pandas()"
   ]
  },
  {
   "cell_type": "code",
   "execution_count": 15,
   "id": "1bcb4ff1",
   "metadata": {},
   "outputs": [],
   "source": [
    "%%local\n",
    "import boto3\n",
    "\n",
    "bucket = 'unwind.dev.data'\n",
    "s3_file_key = 'nft/output/ko/new/wallet_transfer/part-00000-5079efe5-947d-45e3-b8ba-ad5b1504abac-c000.json'\n",
    "\n",
    "s3 = boto3.client('s3')\n",
    "obj = s3.get_object(Bucket=bucket, Key=s3_file_key)\n",
    "\n",
    "data = obj['Body'].iter_lines()\n",
    "\n",
    "table = boto3.resource('dynamodb', 'us-east-1').Table('qc-unwind-platform-TransactionsByWalletV3')"
   ]
  },
  {
   "cell_type": "code",
   "execution_count": 18,
   "id": "3932beb1",
   "metadata": {},
   "outputs": [],
   "source": [
    "%%local\n",
    "\n",
    "import json\n",
    "for d in data:\n",
    "  table.put_item(Item=json.loads(d))\n",
    "\n",
    "  "
   ]
  },
  {
   "cell_type": "code",
   "execution_count": null,
   "id": "f26ba21d",
   "metadata": {},
   "outputs": [],
   "source": [
    "// val editionEdgeDf = spark.read.\n",
    "//   json(\"s3://unwind.dev.data/nft/ko/0xABB3738f04Dc2Ec20f4AE4462c3d069d02AE045B/edition_edition/\").cache"
   ]
  },
  {
   "cell_type": "code",
   "execution_count": null,
   "id": "5a3366af",
   "metadata": {},
   "outputs": [],
   "source": [
    "// editionEdgeDf.\n",
    "//   groupBy(\"edition1\").\n",
    "//   agg(countDistinct(\"edition2\").as(\"cnt\")).\n",
    "//   orderBy($\"cnt\".desc).\n",
    "//  show\n",
    "\n"
   ]
  },
  {
   "cell_type": "code",
   "execution_count": 19,
   "id": "becaf5fa",
   "metadata": {},
   "outputs": [],
   "source": [
    "%%local\n",
    "import boto3\n",
    "\n",
    "bucket = 'unwind.dev.data'\n",
    "s3_file_key = 'nft/output/ko/new/popular_edition_by_artist/part-00000-deb93a1c-2529-4a26-bab2-d77483a8cbc0-c000.json'\n",
    "\n",
    "s3 = boto3.client('s3')\n",
    "obj = s3.get_object(Bucket=bucket, Key=s3_file_key)\n",
    "\n",
    "data = obj['Body'].iter_lines()\n",
    "\n",
    "table = boto3.resource('dynamodb', 'us-east-1').Table('qc-unwind-platform-PopularEditionsByArtistV2')"
   ]
  },
  {
   "cell_type": "code",
   "execution_count": 20,
   "id": "1abadc45",
   "metadata": {},
   "outputs": [],
   "source": [
    "%%local\n",
    "\n",
    "import json\n",
    "for d in data:\n",
    "  item = json.loads(d);\n",
    "  #print(item)\n",
    "  if ('artist' in item):\n",
    "      table.put_item(Item=item)\n",
    "  "
   ]
  },
  {
   "cell_type": "code",
   "execution_count": null,
   "id": "c86f2e34",
   "metadata": {},
   "outputs": [],
   "source": [
    "// %%local\n",
    "\n",
    "// import json\n",
    "// for d in data:\n",
    "//   i = json.loads(d)\n",
    "//   table.delete_item(\n",
    "//         Key={\n",
    "//             'editionId': i['editionId'],\n",
    "//             'neighborId': i['neighborId'],\n",
    "//         }\n",
    "//     )"
   ]
  },
  {
   "cell_type": "code",
   "execution_count": 22,
   "id": "d3c51dab",
   "metadata": {},
   "outputs": [],
   "source": [
    "%%local\n",
    "\n",
    "import boto3\n",
    "\n",
    "\n",
    "bucket = 'unwind.dev.data'\n",
    "s3_file_key = 'nft/output/ko/new/transfer_graph/3757000/part-00000-15eb9d22-533c-40cb-ad99-4ebef802922f-c000.csv'\n",
    "\n",
    "s3 = boto3.client('s3')\n",
    "obj = s3.get_object(Bucket=bucket, Key=s3_file_key)\n",
    "\n",
    "#data = obj['Body'].iter_lines()\n",
    "\n",
    "import pandas as pd\n",
    "import io\n",
    "\n",
    "initial_df = pd.read_csv(io.BytesIO(obj['Body'].read()))\n",
    "\n"
   ]
  },
  {
   "cell_type": "code",
   "execution_count": 36,
   "id": "cef5ebd4",
   "metadata": {},
   "outputs": [
    {
     "name": "stdout",
     "output_type": "stream",
     "text": [
      "                                   transfer_to                               transfer_from  trades\n",
      "0   0x56dd5bbede9bfdb10a2845c4d70d4a2950163044  0x1e6c2d786bc1ce71e8fc27451c31ba6713c00f23       1\n",
      "1   0xb713df754bbf37db676e2b49d62d5f9532b56746  0xd416e09795d24216a4548b70964c7f9d95a7293f       1\n",
      "2   0x232a92da22a4c398eb8060c64201d48b3e241197  0xd416e09795d24216a4548b70964c7f9d95a7293f       1\n",
      "3   0x899b2685c26f51d9f15933f2c26706c2f24c6b85  0x56dd5bbede9bfdb10a2845c4d70d4a2950163044       1\n",
      "4   0xf85307307c372f148375eb6f570aedf230f9fdc8  0xd416e09795d24216a4548b70964c7f9d95a7293f       1\n",
      "5   0xf5657e38ec3a7f7ca7e76eed86e776d11485b8c5  0x899b2685c26f51d9f15933f2c26706c2f24c6b85      19\n",
      "6   0xe468ce99444174bd3bbbed09209577d25d1ad673  0xc83a13319561e3c080c9b8ef31b8ecf6c1e63c68       1\n",
      "7   0x56dd5bbede9bfdb10a2845c4d70d4a2950163044  0x899b2685c26f51d9f15933f2c26706c2f24c6b85       1\n",
      "8   0x56dd5bbede9bfdb10a2845c4d70d4a2950163044  0xd416e09795d24216a4548b70964c7f9d95a7293f       1\n",
      "9   0x899b2685c26f51d9f15933f2c26706c2f24c6b85  0xf5657e38ec3a7f7ca7e76eed86e776d11485b8c5      19\n",
      "10  0x8cda46c3033b3635d404640620fbc0c39a5ea495  0xd416e09795d24216a4548b70964c7f9d95a7293f       1\n",
      "11  0x1e6c2d786bc1ce71e8fc27451c31ba6713c00f23  0x899b2685c26f51d9f15933f2c26706c2f24c6b85      20\n",
      "12  0xe468ce99444174bd3bbbed09209577d25d1ad673  0xf85307307c372f148375eb6f570aedf230f9fdc8       1\n",
      "13  0x1e6c2d786bc1ce71e8fc27451c31ba6713c00f23  0x60bf7345c25c3a4adff3cab299f9ae58a56a85f2       1\n",
      "14  0x694e64d4ad77e0c234b7b1c55ac40302ad86ce3f  0xd416e09795d24216a4548b70964c7f9d95a7293f       1\n",
      "15  0xe192aacbeba8afab8fe10eb637f838f8d06684ce  0x40881dd5b6482854fc01d010ed99fd346f0608b1       1\n",
      "16  0x37bc0f3ca2087d80e04c8f1f58f99fb9b598bd99  0xd416e09795d24216a4548b70964c7f9d95a7293f       1\n",
      "17  0xbe0dcd84320f37335f55f823fbd81dc1119fadf5  0x232a92da22a4c398eb8060c64201d48b3e241197       1\n",
      "18  0x60bf7345c25c3a4adff3cab299f9ae58a56a85f2  0x1e6c2d786bc1ce71e8fc27451c31ba6713c00f23       1\n",
      "19  0x950f87e3561e56e961a00de273bbb376bc66d7ba  0x694e64d4ad77e0c234b7b1c55ac40302ad86ce3f       1\n",
      "20  0xc83a13319561e3c080c9b8ef31b8ecf6c1e63c68  0xb713df754bbf37db676e2b49d62d5f9532b56746       1\n",
      "21  0x40881dd5b6482854fc01d010ed99fd346f0608b1  0x37bc0f3ca2087d80e04c8f1f58f99fb9b598bd99       1\n",
      "22  0x899b2685c26f51d9f15933f2c26706c2f24c6b85  0x1e6c2d786bc1ce71e8fc27451c31ba6713c00f23      21\n",
      "23  0x1e6c2d786bc1ce71e8fc27451c31ba6713c00f23  0x56dd5bbede9bfdb10a2845c4d70d4a2950163044       2\n"
     ]
    }
   ],
   "source": [
    "%%local\n",
    "\n",
    "print(initial_df.to_string())"
   ]
  },
  {
   "cell_type": "code",
   "execution_count": 37,
   "id": "88e7e03f",
   "metadata": {},
   "outputs": [],
   "source": [
    "%%local\n",
    "\n",
    "import plotly.graph_objects as go"
   ]
  },
  {
   "cell_type": "code",
   "execution_count": 7,
   "id": "bc2f5ec3",
   "metadata": {},
   "outputs": [
    {
     "name": "stdout",
     "output_type": "stream",
     "text": [
      "0x78c0a25ccc21604b3d117100de7c9523f53236c7 0x8e04f3f772b4250c060e1b87fd28e420999699e7 1\n",
      "0x24fc3694928acfcf4c08d7771d1b2e64b44b53a7 0x37ec905b4b508292c63a294c648a346413167eaf 199\n",
      "0x502257814d3d964e7f42f03f7dcad83cbda31819 0x8e04f3f772b4250c060e1b87fd28e420999699e7 1\n",
      "0x37ec905b4b508292c63a294c648a346413167eaf 0x24fc3694928acfcf4c08d7771d1b2e64b44b53a7 199\n",
      "0x24fc3694928acfcf4c08d7771d1b2e64b44b53a7 0x8e04f3f772b4250c060e1b87fd28e420999699e7 1\n",
      "0x3df18af7a10f32b1f095cb83f76bc955515a9da0 0x8e04f3f772b4250c060e1b87fd28e420999699e7 1\n"
     ]
    }
   ],
   "source": [
    "%%local\n",
    "\n",
    "df = initial_df.reset_index()  # make sure indexes pair with number of rows\n",
    "\n",
    "for index, row in df.iterrows():\n",
    "    print(row['transfer_to'], row['transfer_from'], row['trades'])"
   ]
  },
  {
   "cell_type": "code",
   "execution_count": 11,
   "id": "17c18ffb",
   "metadata": {},
   "outputs": [
    {
     "data": {
      "application/vnd.jupyter.widget-view+json": {
       "model_id": "eef321bb328c43249462efb2f37bb2d0",
       "version_major": 2,
       "version_minor": 0
      },
      "text/plain": [
       "VBox()"
      ]
     },
     "metadata": {},
     "output_type": "display_data"
    },
    {
     "data": {
      "application/vnd.jupyter.widget-view+json": {
       "model_id": "",
       "version_major": 2,
       "version_minor": 0
      },
      "text/plain": [
       "FloatProgress(value=0.0, bar_style='info', description='Progress:', layout=Layout(height='25px', width='50%'),…"
      ]
     },
     "metadata": {},
     "output_type": "display_data"
    },
    {
     "name": "stderr",
     "output_type": "stream",
     "text": [
      "An error was encountered:\n",
      "<console>:1: error: illegal start of simple expression\n",
      "edge_x = []\n",
      "         ^\n",
      "\n"
     ]
    }
   ],
   "source": [
    "\n",
    "edge_x = []\n",
    "edge_y = []\n",
    "for edge in G.edges():\n",
    "    x0, y0 = G.nodes[edge[0]]['pos']\n",
    "    #x1, y1 = G.nodes[edge[1]]['pos']\n",
    "    edge_x.append(x0)\n",
    "    edge_x.append(x1)\n",
    "    edge_x.append(None)\n",
    "    edge_y.append(y0)\n",
    "    edge_y.append(y1)\n",
    "    edge_y.append(None)\n",
    "\n",
    "edge_trace = go.Scatter(\n",
    "    x=edge_x, y=edge_y,\n",
    "    line=dict(width=0.5, color='#888'),\n",
    "    hoverinfo='none',\n",
    "    mode='lines')\n",
    "\n",
    "node_x = []\n",
    "node_y = []\n",
    "for node in G.nodes():\n",
    "    x, y = G.nodes[node]['pos']\n",
    "    node_x.append(x)\n",
    "    node_y.append(y)\n",
    "\n",
    "node_trace = go.Scatter(\n",
    "    x=node_x, y=node_y,\n",
    "    mode='markers',\n",
    "    hoverinfo='text',\n",
    "    marker=dict(\n",
    "        showscale=True,\n",
    "        # colorscale options\n",
    "        #'Greys' | 'YlGnBu' | 'Greens' | 'YlOrRd' | 'Bluered' | 'RdBu' |\n",
    "        #'Reds' | 'Blues' | 'Picnic' | 'Rainbow' | 'Portland' | 'Jet' |\n",
    "        #'Hot' | 'Blackbody' | 'Earth' | 'Electric' | 'Viridis' |\n",
    "        colorscale='YlGnBu',\n",
    "        reversescale=True,\n",
    "        color=[],\n",
    "        size=10,\n",
    "        colorbar=dict(\n",
    "            thickness=15,\n",
    "            title='Node Connections',\n",
    "            xanchor='left',\n",
    "            titleside='right'\n",
    "        ),\n",
    "        line_width=2))"
   ]
  },
  {
   "cell_type": "code",
   "execution_count": 119,
   "id": "08071709",
   "metadata": {},
   "outputs": [
    {
     "name": "stdout",
     "output_type": "stream",
     "text": [
      "Defaulting to user installation because normal site-packages is not writeable\n",
      "Requirement already satisfied: networkx in /home/emr-notebook/.local/lib/python3.7/site-packages (2.6.3)\n",
      "Note: you may need to restart the kernel to use updated packages.\n"
     ]
    }
   ],
   "source": [
    "%pip install networkx"
   ]
  },
  {
   "cell_type": "code",
   "execution_count": 122,
   "id": "166e695a",
   "metadata": {},
   "outputs": [
    {
     "name": "stdout",
     "output_type": "stream",
     "text": [
      "Defaulting to user installation because normal site-packages is not writeable\n",
      "Collecting matplotlib\n",
      "  Downloading matplotlib-3.5.3-cp37-cp37m-manylinux_2_5_x86_64.manylinux1_x86_64.whl (11.2 MB)\n",
      "\u001b[K     |████████████████████████████████| 11.2 MB 22.1 MB/s eta 0:00:01\n",
      "\u001b[?25hRequirement already satisfied: numpy>=1.17 in /mnt/notebook-env/lib/python3.7/site-packages (from matplotlib) (1.21.2)\n",
      "Requirement already satisfied: python-dateutil>=2.7 in /mnt/notebook-env/lib/python3.7/site-packages (from matplotlib) (2.8.2)\n",
      "Requirement already satisfied: pillow>=6.2.0 in /mnt/notebook-env/lib/python3.7/site-packages (from matplotlib) (8.4.0)\n",
      "Requirement already satisfied: packaging>=20.0 in /mnt/notebook-env/lib/python3.7/site-packages (from matplotlib) (21.3)\n",
      "Collecting cycler>=0.10\n",
      "  Downloading cycler-0.11.0-py3-none-any.whl (6.4 kB)\n",
      "Collecting kiwisolver>=1.0.1\n",
      "  Downloading kiwisolver-1.4.4-cp37-cp37m-manylinux_2_5_x86_64.manylinux1_x86_64.whl (1.1 MB)\n",
      "\u001b[K     |████████████████████████████████| 1.1 MB 49.1 MB/s eta 0:00:01\n",
      "\u001b[?25hCollecting fonttools>=4.22.0\n",
      "  Downloading fonttools-4.37.3-py3-none-any.whl (959 kB)\n",
      "\u001b[K     |████████████████████████████████| 959 kB 64.8 MB/s eta 0:00:01\n",
      "\u001b[?25hRequirement already satisfied: pyparsing>=2.2.1 in /mnt/notebook-env/lib/python3.7/site-packages (from matplotlib) (3.0.4)\n",
      "Requirement already satisfied: typing-extensions in /mnt/notebook-env/lib/python3.7/site-packages (from kiwisolver>=1.0.1->matplotlib) (3.10.0.2)\n",
      "Requirement already satisfied: six>=1.5 in /mnt/notebook-env/lib/python3.7/site-packages (from python-dateutil>=2.7->matplotlib) (1.15.0)\n",
      "Installing collected packages: kiwisolver, fonttools, cycler, matplotlib\n",
      "\u001b[33m  WARNING: The scripts fonttools, pyftmerge, pyftsubset and ttx are installed in '/home/emr-notebook/.local/bin' which is not on PATH.\n",
      "  Consider adding this directory to PATH or, if you prefer to suppress this warning, use --no-warn-script-location.\u001b[0m\n",
      "Successfully installed cycler-0.11.0 fonttools-4.37.3 kiwisolver-1.4.4 matplotlib-3.5.3\n",
      "Note: you may need to restart the kernel to use updated packages.\n"
     ]
    }
   ],
   "source": [
    "%pip install  matplotlib"
   ]
  },
  {
   "cell_type": "code",
   "execution_count": 26,
   "id": "708dfd95",
   "metadata": {},
   "outputs": [
    {
     "name": "stdout",
     "output_type": "stream",
     "text": [
      "index                                                     7\n",
      "transfer_to      0x7d112b3216455499f848ad9371df0667a0d87eb6\n",
      "transfer_from    0x121bf018c4260ff74d1a223fa3f5faa26140f986\n",
      "trades                                                    5\n",
      "Name: 7, dtype: object\n",
      "index                                                     8\n",
      "transfer_to      0x7f1b792bd8a19933acf7aca170e35d24b85adf3d\n",
      "transfer_from    0x7f1b792bd8a19933acf7aca170e35d24b85adf3d\n",
      "trades                                                    1\n",
      "Name: 8, dtype: object\n",
      "index                                                    42\n",
      "transfer_to      0xd4b4fda41b6c3b45e5c60db35fe3acc9e49cdb73\n",
      "transfer_from    0x121bf018c4260ff74d1a223fa3f5faa26140f986\n",
      "trades                                                    2\n",
      "Name: 42, dtype: object\n",
      "index                                                    53\n",
      "transfer_to      0xc717a33938bbd7ebf4a6bd009339e32c9dcb57e8\n",
      "transfer_from    0x121bf018c4260ff74d1a223fa3f5faa26140f986\n",
      "trades                                                    1\n",
      "Name: 53, dtype: object\n",
      "index                                                    74\n",
      "transfer_to      0xc717a33938bbd7ebf4a6bd009339e32c9dcb57e8\n",
      "transfer_from    0x7d112b3216455499f848ad9371df0667a0d87eb6\n",
      "trades                                                    1\n",
      "Name: 74, dtype: object\n",
      "index                                                    85\n",
      "transfer_to      0xd6f1521227520f66e1fdf99ec6d8b97c65367ecc\n",
      "transfer_from    0xd6f1521227520f66e1fdf99ec6d8b97c65367ecc\n",
      "trades                                                    1\n",
      "Name: 85, dtype: object\n",
      "index                                                   126\n",
      "transfer_to      0x7f1b792bd8a19933acf7aca170e35d24b85adf3d\n",
      "transfer_from    0x121bf018c4260ff74d1a223fa3f5faa26140f986\n",
      "trades                                                    1\n",
      "Name: 126, dtype: object\n",
      "7\n",
      "7\n"
     ]
    }
   ],
   "source": [
    "%%local\n",
    "\n",
    "\n",
    "import boto3\n",
    "\n",
    "\n",
    "bucket = 'unwind.dev.data'\n",
    "s3_file_key = 'nft/output/ko/new/transfer_graph/50700/part-00000-5988e3a5-c594-4f2e-9af9-2e3cdca747ba-c000.csv'\n",
    "\n",
    "s3 = boto3.client('s3')\n",
    "obj = s3.get_object(Bucket=bucket, Key=s3_file_key)\n",
    "\n",
    "#data = obj['Body'].iter_lines()\n",
    "\n",
    "import pandas as pd\n",
    "import io\n",
    "\n",
    "initial_df = pd.read_csv(io.BytesIO(obj['Body'].read()))\n",
    "\n",
    "import networkx as nx\n",
    "G = nx.DiGraph()\n",
    "\n",
    "df = initial_df.reset_index()  # make sure indexes pair with number of rows\n",
    "\n",
    "nodes = {}\n",
    "\n",
    "for index, row in df.iterrows():\n",
    "    #print(row['transfer_from'])\n",
    "    if (not pd.isna(row['transfer_from'])):\n",
    "      node_from = row['transfer_from'][:6]\n",
    "      node_to = row['transfer_to'][:6]\n",
    "      nodes[node_from] = nodes.get(node_from, 0) + row['trades'] \n",
    "      nodes[node_to] = nodes.get(node_to, 0) + row['trades'] \n",
    "    \n",
    "      #G.add_edge(node_from, node_to, weight=row['trades'])\n",
    "      #print(len(G.edges))\n",
    "\n",
    "for n in nodes:\n",
    "    if (nodes[n] > 2):\n",
    "        G.add_node(n, size=nodes[n])\n",
    "\n",
    "for index, row in df.iterrows():\n",
    "    if (not pd.isna(row['transfer_from'])):\n",
    "      node_from = row['transfer_from'][:6]\n",
    "      node_to = row['transfer_to'][:6]\n",
    "      #print(node_from)\n",
    "      \n",
    "      if nodes[node_from] > 2 and nodes[node_to] > 2:\n",
    "        G.add_edge(node_from, node_to, weight=row['trades'])\n",
    "        print(row)\n",
    "\n",
    "print(len(G.nodes))\n",
    "print(len(G.edges))"
   ]
  },
  {
   "cell_type": "code",
   "execution_count": 27,
   "id": "22710322",
   "metadata": {},
   "outputs": [
    {
     "name": "stdout",
     "output_type": "stream",
     "text": [
      "7\n",
      "7\n"
     ]
    },
    {
     "data": {
      "image/png": "[encoded data removed]",
      "text/plain": [
       "<Figure size 640x480 with 1 Axes>"
      ]
     },
     "metadata": {},
     "output_type": "display_data"
    }
   ],
   "source": [
    "%%local\n",
    "import networkx as nx\n",
    "import matplotlib.pyplot as plt\n",
    "pos = nx.circular_layout(G)\n",
    "edge_labels=dict([((u,v,),d['weight'])\n",
    "                 for u,v,d in G.edges(data=True)])\n",
    "node_size=[(d['size'] * 10+100)\n",
    "                 for u,d in G.nodes(data=True)]\n",
    "print(len(edge_labels))\n",
    "print(len(G.edges))\n",
    "nx.draw_networkx_edge_labels(G,pos,edge_labels=edge_labels, verticalalignment='bottom', label_pos=0.6)\n",
    "nx.draw_networkx(G, pos=pos, node_color='#D4F1F4', node_size=node_size)\n",
    "plt.show()"
   ]
  },
  {
   "cell_type": "code",
   "execution_count": 31,
   "id": "5f3137d4",
   "metadata": {},
   "outputs": [],
   "source": [
    "%%local\n",
    "pos_ = nx.spring_layout(G)"
   ]
  },
  {
   "cell_type": "code",
   "execution_count": 8,
   "id": "09d33728",
   "metadata": {},
   "outputs": [],
   "source": [
    "%%local\n",
    "# Custom function to create an edge between node x and node y, with a given text and width\n",
    "def make_edge(x, y, text, width):\n",
    "    return  go.Scatter(x         = x,\n",
    "                       y         = y,\n",
    "                       line      = dict(width = width,\n",
    "                                   color = 'cornflowerblue'),\n",
    "                       hoverinfo = 'text',\n",
    "                       text      = ([text]),\n",
    "                       mode      = 'lines')"
   ]
  },
  {
   "cell_type": "code",
   "execution_count": 9,
   "id": "1a443015",
   "metadata": {},
   "outputs": [
    {
     "ename": "NameError",
     "evalue": "name 'pos_' is not defined",
     "output_type": "error",
     "traceback": [
      "\u001b[0;31m---------------------------------------------------------------------------\u001b[0m",
      "\u001b[0;31mNameError\u001b[0m                                 Traceback (most recent call last)",
      "\u001b[0;32m<ipython-input-9-4f4a119e1754>\u001b[0m in \u001b[0;36m<module>\u001b[0;34m\u001b[0m\n\u001b[1;32m      5\u001b[0m     \u001b[0mchar_1\u001b[0m \u001b[0;34m=\u001b[0m \u001b[0medge\u001b[0m\u001b[0;34m[\u001b[0m\u001b[0;36m0\u001b[0m\u001b[0;34m]\u001b[0m\u001b[0;34m\u001b[0m\u001b[0;34m\u001b[0m\u001b[0m\n\u001b[1;32m      6\u001b[0m     \u001b[0mchar_2\u001b[0m \u001b[0;34m=\u001b[0m \u001b[0medge\u001b[0m\u001b[0;34m[\u001b[0m\u001b[0;36m1\u001b[0m\u001b[0;34m]\u001b[0m\u001b[0;34m\u001b[0m\u001b[0;34m\u001b[0m\u001b[0m\n\u001b[0;32m----> 7\u001b[0;31m     \u001b[0mx0\u001b[0m\u001b[0;34m,\u001b[0m \u001b[0my0\u001b[0m \u001b[0;34m=\u001b[0m \u001b[0mpos_\u001b[0m\u001b[0;34m[\u001b[0m\u001b[0mchar_1\u001b[0m\u001b[0;34m]\u001b[0m\u001b[0;34m\u001b[0m\u001b[0;34m\u001b[0m\u001b[0m\n\u001b[0m\u001b[1;32m      8\u001b[0m     \u001b[0mx1\u001b[0m\u001b[0;34m,\u001b[0m \u001b[0my1\u001b[0m \u001b[0;34m=\u001b[0m \u001b[0mpos_\u001b[0m\u001b[0;34m[\u001b[0m\u001b[0mchar_2\u001b[0m\u001b[0;34m]\u001b[0m\u001b[0;34m\u001b[0m\u001b[0;34m\u001b[0m\u001b[0m\n\u001b[1;32m      9\u001b[0m     \u001b[0mtext\u001b[0m   \u001b[0;34m=\u001b[0m \u001b[0;34m'<b>'\u001b[0m \u001b[0;34m+\u001b[0m \u001b[0mstr\u001b[0m\u001b[0;34m(\u001b[0m\u001b[0mG\u001b[0m\u001b[0;34m.\u001b[0m\u001b[0medges\u001b[0m\u001b[0;34m(\u001b[0m\u001b[0;34m)\u001b[0m\u001b[0;34m[\u001b[0m\u001b[0medge\u001b[0m\u001b[0;34m]\u001b[0m\u001b[0;34m[\u001b[0m\u001b[0;34m'weight'\u001b[0m\u001b[0;34m]\u001b[0m\u001b[0;34m)\u001b[0m \u001b[0;34m+\u001b[0m \u001b[0;34m'<b>'\u001b[0m\u001b[0;34m\u001b[0m\u001b[0;34m\u001b[0m\u001b[0m\n",
      "\u001b[0;31mNameError\u001b[0m: name 'pos_' is not defined"
     ]
    }
   ],
   "source": [
    "%%local\n",
    "# For each edge, make an edge_trace, append to list\n",
    "edge_trace = []\n",
    "for edge in G.edges():\n",
    "    \n",
    "    char_1 = edge[0]\n",
    "    char_2 = edge[1]\n",
    "    x0, y0 = pos_[char_1]\n",
    "    x1, y1 = pos_[char_2]\n",
    "    text   = '<b>' + str(G.edges()[edge]['weight']) + '<b>'\n",
    "        \n",
    "    trace  = make_edge([x0, x1, None], [y0, y1, None], text,\n",
    "                            #width = 1)\n",
    "                            width = 0.3*G.edges()[edge]['weight'])\n",
    "    edge_trace.append(trace)"
   ]
  },
  {
   "cell_type": "code",
   "execution_count": 98,
   "id": "a61fec4d",
   "metadata": {},
   "outputs": [],
   "source": [
    "%%local\n",
    "# Make a node trace\n",
    "node_trace = go.Scatter(x         = [],\n",
    "                        y         = [],\n",
    "                        text      = [],\n",
    "                        #textposition = \"top center\",\n",
    "                        textfont_size = 10,\n",
    "                        mode      = 'markers+text',\n",
    "                        hoverinfo = 'none',\n",
    "                        marker    = dict(color = [],\n",
    "                                         size  = [],\n",
    "                                         line  = None))\n",
    "# For each node in midsummer, get the position and size and add to the node_trace\n",
    "for node in G.nodes():\n",
    "    x, y = pos_[node]\n",
    "    node_trace['x'] += tuple([x])\n",
    "    node_trace['y'] += tuple([y])\n",
    "    node_trace['marker']['color'] += tuple(['cornflowerblue'])\n",
    "    node_trace['marker']['size'] += tuple([5*G.nodes()[node]['size']])\n",
    "    node_trace['text'] += tuple(['<b>' + node + '</b>'])"
   ]
  },
  {
   "cell_type": "code",
   "execution_count": 10,
   "id": "ed721fad",
   "metadata": {},
   "outputs": [
    {
     "ename": "NameError",
     "evalue": "name 'go' is not defined",
     "output_type": "error",
     "traceback": [
      "\u001b[0;31m---------------------------------------------------------------------------\u001b[0m",
      "\u001b[0;31mNameError\u001b[0m                                 Traceback (most recent call last)",
      "\u001b[0;32m<ipython-input-10-4113005cbf52>\u001b[0m in \u001b[0;36m<module>\u001b[0;34m\u001b[0m\n\u001b[1;32m      1\u001b[0m \u001b[0;31m# Customize layout\u001b[0m\u001b[0;34m\u001b[0m\u001b[0;34m\u001b[0m\u001b[0;34m\u001b[0m\u001b[0m\n\u001b[0;32m----> 2\u001b[0;31m layout = go.Layout(\n\u001b[0m\u001b[1;32m      3\u001b[0m     \u001b[0mpaper_bgcolor\u001b[0m\u001b[0;34m=\u001b[0m\u001b[0;34m'rgba(0,0,0,0)'\u001b[0m\u001b[0;34m,\u001b[0m\u001b[0;34m\u001b[0m\u001b[0;34m\u001b[0m\u001b[0m\n\u001b[1;32m      4\u001b[0m     \u001b[0mplot_bgcolor\u001b[0m\u001b[0;34m=\u001b[0m\u001b[0;34m'rgba(0,0,0,0)'\u001b[0m\u001b[0;34m,\u001b[0m\u001b[0;34m\u001b[0m\u001b[0;34m\u001b[0m\u001b[0m\n\u001b[1;32m      5\u001b[0m     \u001b[0mxaxis\u001b[0m \u001b[0;34m=\u001b[0m  \u001b[0;34m{\u001b[0m\u001b[0;34m'showgrid'\u001b[0m\u001b[0;34m:\u001b[0m \u001b[0;32mFalse\u001b[0m\u001b[0;34m,\u001b[0m \u001b[0;34m'zeroline'\u001b[0m\u001b[0;34m:\u001b[0m \u001b[0;32mFalse\u001b[0m\u001b[0;34m}\u001b[0m\u001b[0;34m,\u001b[0m \u001b[0;31m# no gridlines\u001b[0m\u001b[0;34m\u001b[0m\u001b[0;34m\u001b[0m\u001b[0m\n",
      "\u001b[0;31mNameError\u001b[0m: name 'go' is not defined"
     ]
    }
   ],
   "source": [
    "%%local\n",
    "\n",
    "# Customize layout\n",
    "layout = go.Layout(\n",
    "    paper_bgcolor='rgba(0,0,0,0)',\n",
    "    plot_bgcolor='rgba(0,0,0,0)',\n",
    "    xaxis =  {'showgrid': False, 'zeroline': False}, # no gridlines\n",
    "    yaxis = {'showgrid': False, 'zeroline': False}, # no gridlines\n",
    ")\n",
    "# Create figure\n",
    "fig = go.Figure(layout = layout)\n",
    "# Add all edge traces\n",
    "for trace in edge_trace:\n",
    "    fig.add_trace(trace)\n",
    "# Add node trace\n",
    "fig.add_trace(node_trace)\n",
    "# Remove legend\n",
    "fig.update_layout(showlegend = False)\n",
    "# Remove tick labels\n",
    "fig.update_xaxes(showticklabels = False)\n",
    "fig.update_yaxes(showticklabels = False)\n",
    "# Show figure\n"
   ]
  },
  {
   "cell_type": "code",
   "execution_count": 101,
   "id": "c3474eb4",
   "metadata": {},
   "outputs": [
    {
     "name": "stdout",
     "output_type": "stream",
     "text": [
      "[Scatter({\n",
      "    'hoverinfo': 'text',\n",
      "    'line': {'color': 'cornflowerblue', 'width': 0.3},\n",
      "    'mode': 'lines',\n",
      "    'text': [<b>1<b>],\n",
      "    'x': [0.034845795136953975, -0.9999999999999999, None],\n",
      "    'y': [-0.09910192431794619, -0.4042079931394343, None]\n",
      "}), Scatter({\n",
      "    'hoverinfo': 'text',\n",
      "    'line': {'color': 'cornflowerblue', 'width': 0.3},\n",
      "    'mode': 'lines',\n",
      "    'text': [<b>1<b>],\n",
      "    'x': [0.034845795136953975, 0.2709835900189038, None],\n",
      "    'y': [-0.09910192431794619, -0.8169278095835374, None]\n",
      "}), Scatter({\n",
      "    'hoverinfo': 'text',\n",
      "    'line': {'color': 'cornflowerblue', 'width': 0.3},\n",
      "    'mode': 'lines',\n",
      "    'text': [<b>1<b>],\n",
      "    'x': [0.034845795136953975, -0.12834241319732798, None],\n",
      "    'y': [-0.09910192431794619, 0.442141837853333, None]\n",
      "}), Scatter({\n",
      "    'hoverinfo': 'text',\n",
      "    'line': {'color': 'cornflowerblue', 'width': 0.3},\n",
      "    'mode': 'lines',\n",
      "    'text': [<b>1<b>],\n",
      "    'x': [0.034845795136953975, 0.9800401026046641, None],\n",
      "    'y': [-0.09910192431794619, 0.43219047765362223, None]\n",
      "}), Scatter({\n",
      "    'hoverinfo': 'text',\n",
      "    'line': {'color': 'cornflowerblue', 'width': 59.699999999999996},\n",
      "    'mode': 'lines',\n",
      "    'text': [<b>199<b>],\n",
      "    'x': [-0.15752707456319417, -0.12834241319732798, None],\n",
      "    'y': [0.4459054115339626, 0.442141837853333, None]\n",
      "}), Scatter({\n",
      "    'hoverinfo': 'text',\n",
      "    'line': {'color': 'cornflowerblue', 'width': 59.699999999999996},\n",
      "    'mode': 'lines',\n",
      "    'text': [<b>199<b>],\n",
      "    'x': [-0.12834241319732798, -0.15752707456319417, None],\n",
      "    'y': [0.442141837853333, 0.4459054115339626, None]\n",
      "})]\n"
     ]
    }
   ],
   "source": [
    "%%local\n",
    "print(edge_trace)"
   ]
  },
  {
   "cell_type": "code",
   "execution_count": 21,
   "id": "4cd51013",
   "metadata": {},
   "outputs": [
    {
     "name": "stdout",
     "output_type": "stream",
     "text": [
      "11\n",
      "11\n"
     ]
    },
    {
     "data": {
      "image/png": "[encoded data removed]",
      "text/plain": [
       "<Figure size 640x480 with 1 Axes>"
      ]
     },
     "metadata": {},
     "output_type": "display_data"
    }
   ],
   "source": [
    "%%local\n",
    "import networkx as nx\n",
    "import matplotlib.pyplot as plt\n",
    "pos = nx.circular_layout(G)\n",
    "edge_labels=dict([((u,v,),d['weight'])\n",
    "                 for u,v,d in G.edges(data=True)])\n",
    "node_size=[(d['size'] * 10+100)\n",
    "                 for u,d in G.nodes(data=True)]\n",
    "print(len(edge_labels))\n",
    "print(len(G.edges))\n",
    "nx.draw_networkx_edge_labels(G,pos,edge_labels=edge_labels, verticalalignment='bottom', label_pos=0.6)\n",
    "nx.draw_networkx(G, pos=pos, node_color='#D4F1F4', node_size=node_size)\n",
    "plt.show()"
   ]
  },
  {
   "cell_type": "code",
   "execution_count": null,
   "id": "3e4188fc",
   "metadata": {},
   "outputs": [],
   "source": []
  }
 ],
 "metadata": {
  "kernelspec": {
   "display_name": "Spark",
   "language": "scala",
   "name": "sparkkernel"
  },
  "language_info": {
   "codemirror_mode": "text/x-scala",
   "file_extension": ".sc",
   "mimetype": "text/x-scala",
   "name": "scala",
   "pygments_lexer": "scala"
  }
 },
 "nbformat": 4,
 "nbformat_minor": 5
}
